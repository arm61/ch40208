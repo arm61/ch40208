{
 "cells": [
  {
   "cell_type": "code",
   "execution_count": null,
   "metadata": {},
   "outputs": [],
   "source": [
    "import numpy as np"
   ]
  },
  {
   "cell_type": "markdown",
   "metadata": {},
   "source": [
    "### Problem 1\n",
    "\n",
    "The first function should produce the energy of a photon given a particular wavenumber. Note that the speed of light and Planck's constant have been imported from the `scipy.constants` library as `c` and `h` respectively."
   ]
  },
  {
   "cell_type": "code",
   "execution_count": null,
   "metadata": {},
   "outputs": [],
   "source": [
    "from scipy.constants import c, h\n",
    "\n",
    "def energy(wavenumber):\n",
    "    "
   ]
  },
  {
   "cell_type": "code",
   "execution_count": null,
   "metadata": {},
   "outputs": [],
   "source": [
    "np.testing.assert_almost_equal(energy(5.03411665e24), 1)\n",
    "np.testing.assert_almost_equal(energy(755117497.6671815), 1.5e-16)\n",
    "np.testing.assert_almost_equal(energy(5.663381232503861e+28), 1.125e4)"
   ]
  },
  {
   "cell_type": "markdown",
   "metadata": {},
   "source": [
    "### Problem 2\n",
    "\n",
    "The second function should be able to determine the volume of a system (assuming the gas is ideal) given the number of moles of gas (`n`), the temperature (`T`) and the pressure (`p`). Again the ideal gas constant has been imported for you as `R`."
   ]
  },
  {
   "cell_type": "code",
   "execution_count": null,
   "metadata": {
    "scrolled": true
   },
   "outputs": [],
   "source": [
    "from scipy.constants import R\n",
    "\n",
    "def ideal_gas_law(n, T, p):\n",
    "    "
   ]
  },
  {
   "cell_type": "code",
   "execution_count": null,
   "metadata": {},
   "outputs": [],
   "source": [
    "np.testing.assert_almost_equal(ideal_gas_law(100, 100, 101325), 0.82057338)\n",
    "np.testing.assert_almost_equal(ideal_gas_law(1, 500, 10132500), 4.10286691e-04)"
   ]
  },
  {
   "cell_type": "code",
   "execution_count": null,
   "metadata": {},
   "outputs": [],
   "source": []
  },
  {
   "cell_type": "code",
   "execution_count": null,
   "metadata": {},
   "outputs": [],
   "source": []
  }
 ],
 "metadata": {
  "kernelspec": {
   "display_name": "Python 3",
   "language": "python",
   "name": "python3"
  },
  "language_info": {
   "codemirror_mode": {
    "name": "ipython",
    "version": 3
   },
   "file_extension": ".py",
   "mimetype": "text/x-python",
   "name": "python",
   "nbconvert_exporter": "python",
   "pygments_lexer": "ipython3",
   "version": "3.7.3"
  }
 },
 "nbformat": 4,
 "nbformat_minor": 2
}
