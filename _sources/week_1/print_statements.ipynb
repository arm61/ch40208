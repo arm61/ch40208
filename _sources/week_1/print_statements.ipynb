{
 "cells": [
  {
   "cell_type": "markdown",
   "metadata": {},
   "source": [
    "# Print statements\n",
    "\n",
    "**First, run the cell below and watch the video lecture associated with this topic.**"
   ]
  },
  {
   "cell_type": "code",
   "execution_count": null,
   "metadata": {},
   "outputs": [],
   "source": [
    "from IPython.display import YouTubeVideo\n",
    "\n",
    "YouTubeVideo('KLTleMeNkU8', width=560, height=315)"
   ]
  },
  {
   "cell_type": "markdown",
   "metadata": {},
   "source": [
    "Until now, we have been using the built-in functionality of the Jupyter Notebook to \"print\" information from our code. \n",
    "You may have noticed that the result of the final line in a given Juypter cell will be printed below it. "
   ]
  },
  {
   "cell_type": "code",
   "execution_count": 1,
   "metadata": {},
   "outputs": [
    {
     "data": {
      "text/plain": [
       "'Like how this is printed'"
      ]
     },
     "execution_count": 1,
     "metadata": {},
     "output_type": "execute_result"
    }
   ],
   "source": [
    "to_print = \"Like how this is printed\"\n",
    "\n",
    "to_print"
   ]
  },
  {
   "cell_type": "markdown",
   "metadata": {},
   "source": [
    "However, if you would like to get information from other lines in the cell (or from within a larger program or function, as we will see in later weeks), it is necessary to be able to *print* from the code. \n",
    "This is where the *print statement* comes in, which in Python looks like this."
   ]
  },
  {
   "cell_type": "code",
   "execution_count": 2,
   "metadata": {},
   "outputs": [
    {
     "name": "stdout",
     "output_type": "stream",
     "text": [
      "Hello World!\n"
     ]
    }
   ],
   "source": [
    "# Print Hello World!\n",
    "\n",
    "print(\"Hello World!\")"
   ]
  },
  {
   "cell_type": "markdown",
   "metadata": {},
   "source": [
    "This will output the string `Hello World!` when the cell is run (some of you may be aware that printing \"Hello World!\" is considered a right of passage in programming and is often the first thing someone will learn to do in a new programming language). \n",
    "\n",
    "Any of the [types](variable_types.ipynb) discussed previously may be printed with the print statement.\n",
    "Additionally it is also possible to use the print statement to insert numerical values into a string. \n",
    "We can even prescribe how the number is written, for example, in the code below the information bewteen the curly brackets defines that the floating point number (`f`) should be written with two (`2`) numbers following the decimal point (`.`). "
   ]
  },
  {
   "cell_type": "code",
   "execution_count": 3,
   "metadata": {},
   "outputs": [
    {
     "name": "stdout",
     "output_type": "stream",
     "text": [
      "pi is approximately 3.1415\n",
      "pi to 2 decimal places is 3.14\n"
     ]
    }
   ],
   "source": [
    "# More interesting printing\n",
    "\n",
    "pi = 3.1415\n",
    "\n",
    "print(\"pi is approximately {}\".format(pi))\n",
    "print(\"pi to 2 decimal places is {:.2f}\".format(pi))"
   ]
  },
  {
   "cell_type": "markdown",
   "metadata": {},
   "source": [
    "More inforamtion about the `format` command can be found [online](https://www.w3schools.com/python/ref_string_format.asp)."
   ]
  }
 ],
 "metadata": {
  "kernelspec": {
   "display_name": "Python 3",
   "language": "python",
   "name": "python3"
  },
  "language_info": {
   "codemirror_mode": {
    "name": "ipython",
    "version": 3
   },
   "file_extension": ".py",
   "mimetype": "text/x-python",
   "name": "python",
   "nbconvert_exporter": "python",
   "pygments_lexer": "ipython3",
   "version": "3.7.6"
  }
 },
 "nbformat": 4,
 "nbformat_minor": 2
}
