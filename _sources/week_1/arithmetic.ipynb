{
 "cells": [
  {
   "cell_type": "markdown",
   "metadata": {},
   "source": [
    "# Arithmetic\n",
    "\n",
    "**First, run the cell below and watch the video lecture associated with this topic.**"
   ]
  },
  {
   "cell_type": "code",
   "execution_count": null,
   "metadata": {},
   "outputs": [],
   "source": [
    "from IPython.display import YouTubeVideo\n",
    "\n",
    "YouTubeVideo('TP0VoPQ2qbw', width=560, height=315)"
   ]
  },
  {
   "cell_type": "markdown",
   "metadata": {},
   "source": [
    "Python and the Jupyter Notebook is able to perfomr simple mathematical operations natively, examples of the operations are given below. \n",
    "\n",
    "| Operation | Mathematical notation | Pythonic notation |\n",
    "|---|---|---|\n",
    "| Addition | $ a + b $ | `a + b` |\n",
    "| Subtraction |  $ a - b $ | `a - b` |\n",
    "| Multiplication | $ a \\times b $ | `a * b` |\n",
    "| Division | $ a \\div b $ | `a / b` |\n",
    "| Exponent | $ a ^ b $ | `a ** b` |\n",
    "\n",
    "Using this basic tools alone, it is possible to use a Jupyter Notebook as a rudimentary calculator.\n",
    "\n",
    "> **Note**: multiplication in Python is *explicit*, if you want to multiply $a$ and $b$, `ab` will not work.\n",
    "> You need to write `a * b`. "
   ]
  },
  {
   "cell_type": "code",
   "execution_count": null,
   "metadata": {},
   "outputs": [],
   "source": [
    "# A simple sum\n",
    "\n",
    "2 + 4"
   ]
  },
  {
   "cell_type": "markdown",
   "metadata": {},
   "source": [
    "## Order of operations\n",
    "\n",
    "A single line of code can include a series of the arithmetic operations outlined above. \n",
    "Therefore, it is necessary to follow a hierarchy, also known as the *order of operations*. \n",
    "Python follows the order of operations that should be familiar from mathematics, you may know this as BODMAS: \n",
    "\n",
    "- **B**rackets\n",
    "- **O**rder\n",
    "- **D**ivision\n",
    "- **M**ultiplication\n",
    "- **A**ddition\n",
    "- **S**ubtraction\n",
    "\n",
    "> **Short Exercise**\n",
    "> \n",
    "> Without using the computer, and following the BODMAS order of operations calculate the following:\n",
    "> 1. $ 24 \\div (10 + 2) $\n",
    "> 2. $ 5 + 16 \\div 2 \\times 3 $\n",
    "> 3. $ (32 \\div (6 + 2))^2 $\n",
    ">\n",
    "> Now check that your answers match the result that Python produces in the cell below."
   ]
  },
  {
   "cell_type": "code",
   "execution_count": null,
   "metadata": {},
   "outputs": [],
   "source": [
    "# Check your maths here\n",
    "\n"
   ]
  },
  {
   "cell_type": "markdown",
   "metadata": {},
   "source": [
    "## Mixed type operations\n",
    "\n",
    "When the two operands (`4` and `3` in the code `4 + 3`) are of the same type, the result of some arthimetic operation will typically also be of this type. "
   ]
  },
  {
   "cell_type": "code",
   "execution_count": 2,
   "metadata": {},
   "outputs": [
    {
     "data": {
      "text/plain": [
       "float"
      ]
     },
     "execution_count": 2,
     "metadata": {},
     "output_type": "execute_result"
    }
   ],
   "source": [
    "# The type doesn't change \n",
    "\n",
    "type(4.3 + 2.5)"
   ]
  },
  {
   "cell_type": "markdown",
   "metadata": {},
   "source": [
    "However, where the operation is on two operands of different types, it is necessary to modify one of them *before* the operation is performed. \n",
    "For example, consider the code below, where an `int` is multiplied by a `float`, which results in an object of type `float`. "
   ]
  },
  {
   "cell_type": "code",
   "execution_count": 3,
   "metadata": {},
   "outputs": [
    {
     "data": {
      "text/plain": [
       "float"
      ]
     },
     "execution_count": 3,
     "metadata": {},
     "output_type": "execute_result"
    }
   ],
   "source": [
    "type(2 * 4.0)"
   ]
  },
  {
   "cell_type": "markdown",
   "metadata": {},
   "source": [
    "This is because the `2` is converted to a `float`, such that the operation is effectively `2.0 * 4.0`.\n",
    "\n",
    "In Python 3, is one `int` is divide by another `int`, then both are converted to `float` objects first. \n",
    "So in the code below, the variable `both_int` will be a float with the value `0.5`. "
   ]
  },
  {
   "cell_type": "code",
   "execution_count": 4,
   "metadata": {},
   "outputs": [
    {
     "data": {
      "text/plain": [
       "float"
      ]
     },
     "execution_count": 4,
     "metadata": {},
     "output_type": "execute_result"
    }
   ],
   "source": [
    "# integer division\n",
    "\n",
    "both_int = 2 / 4\n",
    "\n",
    "type(both_int)"
   ]
  },
  {
   "cell_type": "markdown",
   "metadata": {},
   "source": [
    "In the older Python 2, this would have returned an `int` with a value of `0`. \n",
    "However, with Python 3, the operator `//` (known as floor division) would be required to achieve this result. "
   ]
  },
  {
   "cell_type": "code",
   "execution_count": 5,
   "metadata": {},
   "outputs": [
    {
     "data": {
      "text/plain": [
       "(0, int)"
      ]
     },
     "execution_count": 5,
     "metadata": {},
     "output_type": "execute_result"
    }
   ],
   "source": [
    "# floor division in action\n",
    "\n",
    "floor_division = 2 // 4\n",
    "\n",
    "floor_division, type(floor_division)"
   ]
  }
 ],
 "metadata": {
  "kernelspec": {
   "display_name": "Python 3",
   "language": "python",
   "name": "python3"
  },
  "language_info": {
   "codemirror_mode": {
    "name": "ipython",
    "version": 3
   },
   "file_extension": ".py",
   "mimetype": "text/x-python",
   "name": "python",
   "nbconvert_exporter": "python",
   "pygments_lexer": "ipython3",
   "version": "3.7.6"
  }
 },
 "nbformat": 4,
 "nbformat_minor": 2
}
