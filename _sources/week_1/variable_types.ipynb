{
 "cells": [
  {
   "cell_type": "markdown",
   "metadata": {},
   "source": [
    "# Variables"
   ]
  },
  {
   "cell_type": "markdown",
   "metadata": {},
   "source": [
    "**First, run the cell below and watch the video lecture associated with this topic.**"
   ]
  },
  {
   "cell_type": "code",
   "execution_count": null,
   "metadata": {},
   "outputs": [],
   "source": [
    "from IPython.display import YouTubeVideo\n",
    "\n",
    "YouTubeVideo('zjVhOQ14sBE', width=560, height=315)"
   ]
  },
  {
   "cell_type": "markdown",
   "metadata": {},
   "source": [
    "A *variable* is a container that a Python uses to store some data.\n",
    "The variable can be created and reused at a later stage in the code. \n",
    "In the cell below, assign the value `1` to the variable `principal_quantum_number`."
   ]
  },
  {
   "cell_type": "code",
   "execution_count": null,
   "metadata": {},
   "outputs": [],
   "source": [
    "# Variable assignment \n",
    "\n"
   ]
  },
  {
   "cell_type": "markdown",
   "metadata": {},
   "source": [
    "Not all variables are the same, they may have different *types*. \n",
    "Different operations are possible depending on the variable type. \n",
    "Variable types that are present in Python include: \n",
    "\n",
    "- *integers* (`int`): these are whole numbers (1, 2, 0, -3, etc.); there is no decimal point and they can be positive, negative, or zero. \n",
    "- *floats* (`float`): these are all real numbers (1.0, 3.14, 0.0, -6.28); any value that can be described with a decimal point. This includes numbers in scientific notation, which are written `6.02e23`, where the `eXX` takes the place of the $\\times10^{\\text{XX}}$. \n",
    "- *complex* (`complex`): these are complex numbers, which should be familiar from mathematics, such as $1 + 2i$. However, in Python, a `j` is used instead of the $i$. \n",
    "- *string* (`str`): a string is a textual variable, such as a word or a sentence; these are written between single or double inverted commas, `'like this'` or `\"this\"`.\n",
    "- *boolean* (`bool`): named for [George Boole](https://en.wikipedia.org/wiki/George_Boole), who defined an algebraic logic system in the 19th century; a Boolean is a *logical* valiable type that may hold one of two values, either `True` or `False`. We will come back to *logic* later.\n",
    "\n",
    "In the cells below, try and define a *chemistry* example for one of each of the four variable types mentioned above (and don't just copy those from the video!).\n",
    "\n",
    "> **Note**: `str` objects are contained within either double or single quotes. \n",
    "However, you **cannot** use a mixture of the two. e.g. `my_string = 'Hello World!\"` will return an error."
   ]
  },
  {
   "cell_type": "code",
   "execution_count": null,
   "metadata": {},
   "outputs": [],
   "source": [
    "# Define a int\n",
    "\n"
   ]
  },
  {
   "cell_type": "code",
   "execution_count": null,
   "metadata": {},
   "outputs": [],
   "source": [
    "# Define a float\n",
    "\n"
   ]
  },
  {
   "cell_type": "code",
   "execution_count": null,
   "metadata": {},
   "outputs": [],
   "source": [
    "# Define a string\n",
    "\n"
   ]
  },
  {
   "cell_type": "code",
   "execution_count": null,
   "metadata": {},
   "outputs": [],
   "source": [
    "# Define a boolean\n",
    "\n"
   ]
  },
  {
   "cell_type": "markdown",
   "metadata": {},
   "source": [
    "The `type()` function will inform you of the type of the variable that is passed as an argument, complete the cells below such that they return the appropriate type. "
   ]
  },
  {
   "cell_type": "code",
   "execution_count": null,
   "metadata": {},
   "outputs": [],
   "source": [
    "# Return a string\n",
    "\n",
    "a_string = 'a'\n",
    "type(a_string)"
   ]
  },
  {
   "cell_type": "code",
   "execution_count": null,
   "metadata": {},
   "outputs": [],
   "source": [
    "# Return a float\n",
    "\n",
    "a_float = 3.2\n",
    "type(a_float)"
   ]
  },
  {
   "cell_type": "code",
   "execution_count": null,
   "metadata": {},
   "outputs": [],
   "source": [
    "# Return a int\n",
    "\n",
    "a_int = 1\n",
    "type(a_int)"
   ]
  },
  {
   "cell_type": "markdown",
   "metadata": {},
   "source": [
    "> **Short Exercise**\n",
    "> \n",
    "> Using the cell below, consider the difference in *type* between `1`, `1.` and `1.0` as interperated by Python. "
   ]
  },
  {
   "cell_type": "code",
   "execution_count": null,
   "metadata": {},
   "outputs": [],
   "source": [
    "# The difference in 1\n",
    "\n"
   ]
  }
 ],
 "metadata": {
  "kernelspec": {
   "display_name": "Python 3",
   "language": "python",
   "name": "python3"
  },
  "language_info": {
   "codemirror_mode": {
    "name": "ipython",
    "version": 3
   },
   "file_extension": ".py",
   "mimetype": "text/x-python",
   "name": "python",
   "nbconvert_exporter": "python",
   "pygments_lexer": "ipython3",
   "version": "3.7.6"
  }
 },
 "nbformat": 4,
 "nbformat_minor": 2
}