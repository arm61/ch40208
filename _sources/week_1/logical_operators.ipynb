{
 "cells": [
  {
   "cell_type": "markdown",
   "metadata": {},
   "source": [
    "# Logical operators\n",
    "\n",
    "**First, run the cell below and watch the video lecture associated with this topic.**"
   ]
  },
  {
   "cell_type": "code",
   "execution_count": null,
   "metadata": {},
   "outputs": [],
   "source": [
    "from IPython.display import YouTubeVideo\n",
    "\n",
    "YouTubeVideo('sarIrXxfuW8', width=560, height=315)"
   ]
  },
  {
   "cell_type": "markdown",
   "metadata": {},
   "source": [
    "Previously, we used the Jupyter Notebook as a simple calculator. \n",
    "However, programs are more useful when we are able to include some *intelligence*, allowing the code to perform different calculations under different circumstances. \n",
    "This ability relies heavily on the use of logical operators.\n",
    "\n",
    "A *logical operator* is a piece of code that returns an object of type *Boolean*, which can be either `True` or `False`. \n",
    "The logical operator `==` is one of the most common and translates to *is equal to*, this operator will return `True` if the values on either side are equal, and `False` if they are not. "
   ]
  },
  {
   "cell_type": "code",
   "execution_count": 1,
   "metadata": {},
   "outputs": [
    {
     "name": "stdout",
     "output_type": "stream",
     "text": [
      "True\n",
      "False\n"
     ]
    }
   ],
   "source": [
    "# The truth\n",
    "\n",
    "print(2 - 1 == 1)\n",
    "print(1 - 1 == 1)"
   ]
  },
  {
   "cell_type": "markdown",
   "metadata": {},
   "source": [
    "The *is equal to* operator is only one of many logical operators that is available in Python. \n",
    "\n",
    "| Description | Mathematical symbol | Pythonic operator | \n",
    "|---|---|---|\n",
    "| is equal to | $=$ | `==` | \n",
    "| is less than | $<$ | `<` | \n",
    "| is less than or equal to | $\\leq$ | `<=` |\n",
    "| is greater than | $>$ | `>` |\n",
    "| is greater than or equal to | $\\geq$ | `>=` | \n",
    "| is not equal to | $\\neq$ | `!=` |\n",
    "\n",
    "> **Short Exercise**\n",
    "> \n",
    "> In the cells below, write code that will return the result of the following logical operations: \n",
    "> \n",
    "> 1. $1 = 4$\n",
    "> 2. $10 < 15$\n",
    "> 3. $3.1415 \\neq 3$"
   ]
  },
  {
   "cell_type": "code",
   "execution_count": 2,
   "metadata": {},
   "outputs": [],
   "source": [
    "# Short Exercise 1\n",
    "\n"
   ]
  },
  {
   "cell_type": "code",
   "execution_count": 3,
   "metadata": {},
   "outputs": [],
   "source": [
    "# Short Exercise 2\n",
    "\n"
   ]
  },
  {
   "cell_type": "code",
   "execution_count": 4,
   "metadata": {},
   "outputs": [],
   "source": [
    "# Short Exercise 3\n",
    "\n"
   ]
  },
  {
   "cell_type": "markdown",
   "metadata": {},
   "source": [
    "## Combining operators\n",
    "\n",
    "**Run the cell below and watch the video lecture associated with this topic.**"
   ]
  },
  {
   "cell_type": "code",
   "execution_count": null,
   "metadata": {},
   "outputs": [],
   "source": [
    "from IPython.display import YouTubeVideo\n",
    "\n",
    "YouTubeVideo('iMYnAmLI9S0', width=560, height=315)"
   ]
  },
  {
   "cell_type": "markdown",
   "metadata": {},
   "source": [
    "In addition to the use of individual logical operators, it is possible to use additional keywords to combine multiple operators. \n",
    "These keywords are `and` and `or`, which has important *but different* actions:\n",
    "\n",
    "- The `and` keyword will return `True` if **both** operations are true.\n",
    "- The `or` keyword will return `False` if **either** operation is true.\n",
    "\n",
    "We can describe the `and` keyword based on the inputs as follows.\n",
    "\n",
    "| Input A | Input B | Logic | Output |\n",
    "|---|---|---|---|\n",
    "| `True` | `False` | `and` | `False` |\n",
    "| `True` | `True` | `and` | `True` |\n",
    "| `False` | `False` | `and` | `False` |\n",
    "\n",
    "While the descrition of the `or` keyword is given here.\n",
    "\n",
    "| Input A | Input B | Logic | Output |\n",
    "|---|---|---|---|\n",
    "| `True` | `False` | `or` | `True` |\n",
    "| `True` | `True` | `or` | `True` |\n",
    "| `False` | `False` | `or` | `False` |\n",
    "\n",
    "The code below gives an example of the syntax for these operations. "
   ]
  },
  {
   "cell_type": "code",
   "execution_count": 6,
   "metadata": {},
   "outputs": [
    {
     "data": {
      "text/plain": [
       "True"
      ]
     },
     "execution_count": 6,
     "metadata": {},
     "output_type": "execute_result"
    }
   ],
   "source": [
    "# Using and and or with electronic spectroscopy selection rules\n",
    "\n",
    "delta_S = 0\n",
    "delta_l = +1\n",
    "\n",
    "orbital_rule = delta_l == 1 or delta_l == -1\n",
    "\n",
    "delta_S == 0 and orbital_rule"
   ]
  },
  {
   "cell_type": "markdown",
   "metadata": {},
   "source": [
    "> **Short Exercise**\n",
    "> \n",
    "> Using the `print` function discussed previous, investigate the code above. \n",
    "> In the cell below, describe in words what is happening"
   ]
  },
  {
   "cell_type": "code",
   "execution_count": null,
   "metadata": {},
   "outputs": [],
   "source": [
    "# your description goes here"
   ]
  }
 ],
 "metadata": {
  "kernelspec": {
   "display_name": "Python 3",
   "language": "python",
   "name": "python3"
  },
  "language_info": {
   "codemirror_mode": {
    "name": "ipython",
    "version": 3
   },
   "file_extension": ".py",
   "mimetype": "text/x-python",
   "name": "python",
   "nbconvert_exporter": "python",
   "pygments_lexer": "ipython3",
   "version": "3.7.6"
  }
 },
 "nbformat": 4,
 "nbformat_minor": 2
}
