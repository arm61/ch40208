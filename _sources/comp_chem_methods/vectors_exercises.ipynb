{
 "cells": [
  {
   "cell_type": "markdown",
   "metadata": {},
   "source": [
    "# Exercise\n",
    "\n",
    "Considering the atoms in the previous exercises. \n",
    "We can use a vector approach as follows. \n",
    "This is discussed in detail in LOIL 10.1."
   ]
  },
  {
   "cell_type": "code",
   "execution_count": 4,
   "metadata": {},
   "outputs": [],
   "source": [
    "import numpy as np"
   ]
  },
  {
   "cell_type": "code",
   "execution_count": 5,
   "metadata": {},
   "outputs": [],
   "source": [
    "atom_1 = [0.1, 0.5, 3.2]\n",
    "atom_2 = [0.4, 0.5, 2.3]\n",
    "atom_3 = [-0.3, 0.3, 1.7]"
   ]
  },
  {
   "cell_type": "code",
   "execution_count": 8,
   "metadata": {},
   "outputs": [
    {
     "name": "stdout",
     "output_type": "stream",
     "text": [
      "[0.9486832980505141, 1.5652475842498532, 0.9433981132056602]\n"
     ]
    }
   ],
   "source": [
    "distances = []\n",
    "\n",
    "atoms = np.array([atom_1, atom_2, atom_3])\n",
    "for i, a_i in enumerate(atoms):\n",
    "    for j, a_j in enumerate(atoms[i+1:]):\n",
    "        vector = a_i - a_j\n",
    "        distances.append(np.sqrt(np.dot(vector, vector)))\n",
    "        \n",
    "print(distances)"
   ]
  },
  {
   "cell_type": "code",
   "execution_count": null,
   "metadata": {},
   "outputs": [],
   "source": []
  }
 ],
 "metadata": {
  "kernelspec": {
   "display_name": "Python 3",
   "language": "python",
   "name": "python3"
  },
  "language_info": {
   "codemirror_mode": {
    "name": "ipython",
    "version": 3
   },
   "file_extension": ".py",
   "mimetype": "text/x-python",
   "name": "python",
   "nbconvert_exporter": "python",
   "pygments_lexer": "ipython3",
   "version": "3.8.3"
  }
 },
 "nbformat": 4,
 "nbformat_minor": 4
}
