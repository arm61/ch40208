{
 "cells": [
  {
   "cell_type": "markdown",
   "metadata": {},
   "source": [
    "# Minimization Libraries\n",
    "\n",
    "More than once in this course, we have discussed the fact that the power of the Python programming language comes from the vast ecosystem of libraries that we can utilise. \n",
    "Previously, you have worked to write your own minimization algorithms in Python, using loops and functions. \n",
    "However, potentially unsurprisingly, there is a library that we can use to help us with minimisation algorithms, which has built-in much more powerful algorithms than those you have used. \n",
    "The library is called `scipy` (pronounced Sigh-Pie), the `scipy` library has a huge variety of scientific computing utilities (including the `constants` module that you encountered [previously](https://pythoninchemistry.org/ch40208/working_with_data/ideal_gas_law.html#tip)), but in this section, we will focus on the `minimize` method. \n",
    "\n",
    "This method is within the `optimize` module of the `scipy` library, so to access this, we must import the following."
   ]
  },
  {
   "cell_type": "code",
   "execution_count": 1,
   "metadata": {},
   "outputs": [],
   "source": [
    "from scipy.optimize import minimize"
   ]
  },
  {
   "cell_type": "markdown",
   "metadata": {},
   "source": [
    "Let us first investigate the documentation of the minimize function, this is available [online](https://docs.scipy.org/doc/scipy/reference/generated/scipy.optimize.minimize.html) or it can be printed in the Jupyter Notebook with the following command. \n",
    "\n",
    "```\n",
    "print(minimize.__doc__)\n",
    "```\n",
    "\n",
    "We will not reproduce the documentation directly in this course text as it is very long, but we suggest that you study it. \n",
    "It is okay if you don't understand everything discussed, we will here go through some practical application. \n",
    "\n",
    "From the documentation, we will see that the `minimize` function has two required arguments:\n",
    "\n",
    "- `fun`: this is the function that we will minimize\n",
    "- `x0`: this is our initial guess of the parameter used in the minimisation\n",
    "\n",
    "The only optional argument we will look at from the documentation is the `args`, which are the invariant parameters in our model that should be passed to our function. \n",
    "We will overlook the other optional arguments for now, but the interested reader may want to investigate these further. \n",
    "\n",
    "We want to minimize the potential energy from the Lennard-Jones potential, this means writing a function for this, this is the `fun` discussed above."
   ]
  },
  {
   "cell_type": "code",
   "execution_count": 2,
   "metadata": {},
   "outputs": [],
   "source": [
    "def lennard_jones(r, A, B):\n",
    "    \"\"\"\n",
    "    Lennard-Jones potential energy.\n",
    "    \n",
    "    Args:\n",
    "        r (float): the distances to find the energy for (Å).\n",
    "        A (float): the repulsive prefactor (eV/Å^12).\n",
    "        B (float): the attractive prefactor (eV/Å^6).\n",
    "    \n",
    "    Returns:\n",
    "        (float): the potential energy at each r.\n",
    "    \"\"\"\n",
    "    return A / r**12 - B / r**6"
   ]
  },
  {
   "cell_type": "markdown",
   "metadata": {},
   "source": [
    "Note in the documentation, it says that the `minimize` function should be passed a function with the form\n",
    "\n",
    "```\n",
    "fun(x, *args) -> float\n",
    "```\n",
    "\n",
    "Above, this is mapped out, were `r` is our `x` and `A, B` are the `*args` (note the `*` means this can be any number of `args`). \n",
    "The `args` are not varied during the minimisation process. \n",
    "The `minimization` function works as follows."
   ]
  },
  {
   "cell_type": "code",
   "execution_count": 3,
   "metadata": {},
   "outputs": [],
   "source": [
    "A = 1e5\n",
    "B = 40\n",
    "\n",
    "result = minimize(lennard_jones, [3.5], args=(A, B))"
   ]
  },
  {
   "cell_type": "code",
   "execution_count": 4,
   "metadata": {},
   "outputs": [
    {
     "name": "stdout",
     "output_type": "stream",
     "text": [
      "      fun: -0.003999999054071188\n",
      " hess_inv: array([[54.70574037]])\n",
      "      jac: array([-5.64771472e-06])\n",
      "  message: 'Optimization terminated successfully.'\n",
      "     nfev: 18\n",
      "      nit: 8\n",
      "     njev: 9\n",
      "   status: 0\n",
      "  success: True\n",
      "        x: array([4.13485048])\n"
     ]
    }
   ],
   "source": [
    "print(result)"
   ]
  },
  {
   "cell_type": "markdown",
   "metadata": {},
   "source": [
    "The object that is returned by the `minimize` function is a special object which gives a lot of information about the minimisation.\n",
    "The value we are interested in is the minimum energy difference, which is the `x` attribute of this object. "
   ]
  },
  {
   "cell_type": "code",
   "execution_count": 5,
   "metadata": {},
   "outputs": [
    {
     "name": "stdout",
     "output_type": "stream",
     "text": [
      "[4.13485048]\n"
     ]
    }
   ],
   "source": [
    "print(result.x)"
   ]
  },
  {
   "cell_type": "markdown",
   "metadata": {},
   "source": [
    "This agrees well with the value that we found when writing our own minimisation methods. \n",
    "\n",
    "## Exercise\n",
    "\n",
    "Write a function to model the following potential energy function, \n",
    "\n",
    "$$ E = \\frac{1}{2} \\{A_1[1 + \\cos{(\\phi)}] + A_2[1 + \\cos{(2\\phi)}] + A_3[1 + \\cos{(3\\phi)}]\\}, $$\n",
    "\n",
    "this function describes the potential energy of the Cl-C-C-Cl dihedral angle in a molecule of 1, 2-dichloroethane, where $A_1 = 55.229$ kJ/mol, $A_2 = 3.3472$ kJ/mol, $A_3 = -58.576$ kJ/mol and $\\phi$ is the dihedral angle.\n",
    "\n",
    "1. Plot this function between $-\\pi$ and $\\pi$, remember to label your axes. \n",
    "2. Using `minimize` test different initial values of `x0` for $\\phi$. Consider why the result is so dependent on the starting position for this function (it may help to plot your result on the function). "
   ]
  }
 ],
 "metadata": {
  "kernelspec": {
   "display_name": "Python 3",
   "language": "python",
   "name": "python3"
  },
  "language_info": {
   "codemirror_mode": {
    "name": "ipython",
    "version": 3
   },
   "file_extension": ".py",
   "mimetype": "text/x-python",
   "name": "python",
   "nbconvert_exporter": "python",
   "pygments_lexer": "ipython3",
   "version": "3.8.3"
  }
 },
 "nbformat": 4,
 "nbformat_minor": 4
}
