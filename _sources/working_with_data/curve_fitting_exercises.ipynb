{
 "cells": [
  {
   "cell_type": "markdown",
   "metadata": {},
   "source": [
    "# Exercises\n",
    "\n",
    "The first exercise was to modify the first-order rate law code to account for a *y*-uncertainty of 5 %. "
   ]
  },
  {
   "cell_type": "code",
   "execution_count": 1,
   "metadata": {},
   "outputs": [],
   "source": [
    "import numpy as np\n",
    "import matplotlib.pyplot as plt"
   ]
  },
  {
   "cell_type": "markdown",
   "metadata": {},
   "source": [
    "Let's create a new array with the *y*-uncertainty (`c_err`). "
   ]
  },
  {
   "cell_type": "code",
   "execution_count": 2,
   "metadata": {},
   "outputs": [],
   "source": [
    "c = np.array([6.23, 4.84, 3.76, 3.20, 2.60, 2.16, 1.85, 1.49, 1.27, 1.01])\n",
    "c_err = c * 0.05\n",
    "t = np.array([2, 4, 6, 8, 10, 12, 14, 16, 18, 20])"
   ]
  },
  {
   "cell_type": "code",
   "execution_count": 3,
   "metadata": {},
   "outputs": [
    {
     "data": {
      "image/png": "[encoded data removed]",
      "text/plain": [
       "<Figure size 432x288 with 1 Axes>"
      ]
     },
     "metadata": {
      "needs_background": "light"
     },
     "output_type": "display_data"
    }
   ],
   "source": [
    "plt.errorbar(t, c, c_err)\n",
    "plt.xlabel('Time/s')\n",
    "plt.ylabel('[H$_2$O$_2$]/M')\n",
    "plt.show()"
   ]
  },
  {
   "cell_type": "markdown",
   "metadata": {},
   "source": [
    "Using the model from the example."
   ]
  },
  {
   "cell_type": "code",
   "execution_count": 4,
   "metadata": {},
   "outputs": [],
   "source": [
    "def first_order(t, a0, k):\n",
    "    \"\"\"\n",
    "    The first-order rate equation. \n",
    "    \n",
    "    Args:\n",
    "        t (float): Time (s).\n",
    "        a0 (float): Initial concentration (mol/dm3).\n",
    "        k (float): Rate constant (s-1).\n",
    "    \n",
    "    Returns:\n",
    "        (float): Concentration at time t (mol/dm3).\n",
    "    \"\"\"\n",
    "    return a0 * np.exp(-k * t)"
   ]
  },
  {
   "cell_type": "markdown",
   "metadata": {},
   "source": [
    "But with a modified chi_squared. "
   ]
  },
  {
   "cell_type": "code",
   "execution_count": 5,
   "metadata": {},
   "outputs": [],
   "source": [
    "def chi_squared(x, t, data, error):\n",
    "    \"\"\"\n",
    "    Determine the chi-squared value for a first-order rate equation.\n",
    "    \n",
    "    Args:\n",
    "        x (list): The variable parameters.\n",
    "        t (float): Time (s).\n",
    "        data (float): Experimental concentration data.\n",
    "        error (float): Uncertainty in concentration data.\n",
    "    Returns:\n",
    "        (float): chi^2 value.\n",
    "    \"\"\"\n",
    "    a0 = x[0]\n",
    "    k = x[1]\n",
    "    return np.sum((data - first_order(t, a0, k)) ** 2 / (error ** 2))"
   ]
  },
  {
   "cell_type": "markdown",
   "metadata": {},
   "source": [
    "Then we do the minimisation as before. \n",
    "But with the `c_err` as an `arg` and starting positions informed by the previous analysis."
   ]
  },
  {
   "cell_type": "code",
   "execution_count": 6,
   "metadata": {},
   "outputs": [],
   "source": [
    "from scipy.optimize import minimize"
   ]
  },
  {
   "cell_type": "code",
   "execution_count": 7,
   "metadata": {},
   "outputs": [],
   "source": [
    "result = minimize(chi_squared, [7, 0.1], args=(t, c, c_err))"
   ]
  },
  {
   "cell_type": "code",
   "execution_count": 8,
   "metadata": {},
   "outputs": [
    {
     "data": {
      "text/plain": [
       "array([7.08438447, 0.09737419])"
      ]
     },
     "execution_count": 8,
     "metadata": {},
     "output_type": "execute_result"
    }
   ],
   "source": [
    "result.x"
   ]
  },
  {
   "cell_type": "code",
   "execution_count": 9,
   "metadata": {},
   "outputs": [
    {
     "data": {
      "image/png": "[encoded data removed]",
      "text/plain": [
       "<Figure size 432x288 with 1 Axes>"
      ]
     },
     "metadata": {
      "needs_background": "light"
     },
     "output_type": "display_data"
    }
   ],
   "source": [
    "x = np.linspace(2, 20, 1000)\n",
    "\n",
    "plt.plot(t, c, 'o')\n",
    "plt.plot(x, first_order(x, result.x[0], result.x[1]))\n",
    "plt.xlabel('Time/s')\n",
    "plt.ylabel('[H$_2$O$_2$]/M')\n",
    "plt.show()"
   ]
  },
  {
   "cell_type": "markdown",
   "metadata": {},
   "source": [
    "This can also be achieved with the use of the `sigma` flag in the `scipy.optimize.curve_fit` function. "
   ]
  },
  {
   "cell_type": "code",
   "execution_count": 10,
   "metadata": {},
   "outputs": [],
   "source": [
    "from scipy.optimize import curve_fit"
   ]
  },
  {
   "cell_type": "code",
   "execution_count": 11,
   "metadata": {},
   "outputs": [
    {
     "name": "stderr",
     "output_type": "stream",
     "text": [
      "<ipython-input-4-ef183409b30e>:13: RuntimeWarning: overflow encountered in exp\n",
      "  return a0 * np.exp(-k * t)\n"
     ]
    }
   ],
   "source": [
    "popt, pcov = curve_fit(first_order, t, c, sigma=c_err)"
   ]
  },
  {
   "cell_type": "code",
   "execution_count": 12,
   "metadata": {},
   "outputs": [
    {
     "name": "stdout",
     "output_type": "stream",
     "text": [
      "[A]_0 = 7.084387204820056 +/- 0.17113707059226657; k = 0.09737422484062833 +/- 0.0019530371481279994\n"
     ]
    }
   ],
   "source": [
    "uncertainties = np.sqrt(pcov)\n",
    "\n",
    "print(f\"[A]_0 = {popt[0]} +/- {uncertainties[0][0]}; k = {popt[1]} +/- {uncertainties[1][1]}\")"
   ]
  }
 ],
 "metadata": {
  "kernelspec": {
   "display_name": "Python 3",
   "language": "python",
   "name": "python3"
  },
  "language_info": {
   "codemirror_mode": {
    "name": "ipython",
    "version": 3
   },
   "file_extension": ".py",
   "mimetype": "text/x-python",
   "name": "python",
   "nbconvert_exporter": "python",
   "pygments_lexer": "ipython3",
   "version": "3.8.3"
  }
 },
 "nbformat": 4,
 "nbformat_minor": 4
}
