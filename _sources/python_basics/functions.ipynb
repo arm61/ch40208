{
 "cells": [
  {
   "cell_type": "markdown",
   "metadata": {},
   "source": [
    "# Functions\n",
    "\n",
    "You have been introduced to using functions in Python, such as `print()` and mathematical operations for the `math` library such as `math.sqrt()`. \n",
    "Here, you will see how to write your own functions, allowing you to package pieces of code that you will want to use frequently into accessible calls.\n",
    "\n",
    "A function is defined in Python using the special keyword `def`, followed by the function name and the arguments (contained within brackets). \n",
    "Similar to loops, all of the code within the function should be indented with respect to the function definition.\n",
    "The general syntax for defining a function in Python is as follows,"
   ]
  },
  {
   "cell_type": "code",
   "execution_count": 1,
   "metadata": {},
   "outputs": [],
   "source": [
    "def kinetic_energy(mass, velocity):\n",
    "    \"\"\"\n",
    "    Determine the kinetic energy of a particle.\n",
    "    \n",
    "    Args: \n",
    "        mass (float): Particle mass (kg)\n",
    "        velocity (float): Particle velocity (m/s)\n",
    "    \n",
    "    Returns:\n",
    "        (float): Particle kinetic energy (J)\n",
    "    \"\"\"\n",
    "    kinetic_energy = 0.5 * mass * velocity ** 2\n",
    "    return kinetic_energy"
   ]
  },
  {
   "cell_type": "markdown",
   "metadata": {},
   "source": [
    "Above, the function has been given the name `kinetic_energy`, and takes two arguments; `mass` and `velocity`, the kinetic energy value is then found and **returned**.\n",
    "\n",
    "With the function defined, we can use it as follows, "
   ]
  },
  {
   "cell_type": "code",
   "execution_count": 2,
   "metadata": {},
   "outputs": [
    {
     "name": "stdout",
     "output_type": "stream",
     "text": [
      "450000.0\n"
     ]
    }
   ],
   "source": [
    "print(kinetic_energy(10, 300))"
   ]
  },
  {
   "cell_type": "markdown",
   "metadata": {},
   "source": [
    "We can imagine that when the function is called, the code within the function definition replaces the function name and the arguments are assigned to the function's variables. \n",
    "\n",
    "## Defining a function\n",
    "\n",
    "We have seen an example of a function definition, now let us dive a bit deeper. \n",
    "The function definition has four parts: \n",
    "\n",
    "### Definition\n",
    "\n",
    "Beginning with `def`, this is the name and the arguments for the function. In the above example, this is the first line, \n",
    "```\n",
    "def kinetic_energy(mass, velocity):\n",
    "```\n",
    "The colon indicates that the function definition is complete.\n",
    "The [same rules that apply top variable name definition](./variables.html#assigning-a-variable) apply the names of functions. \n",
    "A function can have any number of arguments, from zero to infinity (although the latter is impractical), the function below has no arguments (note that to call the function, we still need the brackets even though they are empty). "
   ]
  },
  {
   "cell_type": "code",
   "execution_count": 3,
   "metadata": {},
   "outputs": [],
   "source": [
    "from scipy.constants import R\n",
    "\n",
    "def R_kJpermol():\n",
    "    return R * 1e-3"
   ]
  },
  {
   "cell_type": "code",
   "execution_count": 4,
   "metadata": {},
   "outputs": [
    {
     "data": {
      "text/plain": [
       "0.008314462618"
      ]
     },
     "execution_count": 4,
     "metadata": {},
     "output_type": "execute_result"
    }
   ],
   "source": [
    "R_kJpermol()"
   ]
  },
  {
   "cell_type": "markdown",
   "metadata": {},
   "source": [
    "In addition to standard arguments, a function can also have **keyword arguments**. \n",
    "These arguments are defined with default values which may be changed when the function is called.\n",
    "In the example below, the `path_length` will default to `1.` if no value is given (because 1 cm is the most common UV-Vis spectrometer path length. "
   ]
  },
  {
   "cell_type": "code",
   "execution_count": 5,
   "metadata": {},
   "outputs": [],
   "source": [
    "def beer_lambert(epsilon, absorbance, path_length=1.0):\n",
    "    \"\"\"\n",
    "    Evaluate the concentration of a solution, using the Beer-Lambert law.\n",
    "    \n",
    "    Args:\n",
    "        epsilon (float): Molar attenuation coefficient (L/(mol cm))\n",
    "        absorbance (float): Absorbance of the solution\n",
    "        path_lenght (float, optional): Distance travelled through the sample (cm).\n",
    "    \n",
    "    Returns:\n",
    "        (float): Concentration of solution (mol/L)\n",
    "    \"\"\"\n",
    "    concentration = absorbance / (epsilon * path_length)\n",
    "    return concentration"
   ]
  },
  {
   "cell_type": "markdown",
   "metadata": {},
   "source": [
    "This means there are now two ways that we can call this function. \n",
    "**If** the path length is 1cm, the following is sufficient,"
   ]
  },
  {
   "cell_type": "code",
   "execution_count": 6,
   "metadata": {},
   "outputs": [
    {
     "data": {
      "text/plain": [
       "0.009523809523809525"
      ]
     },
     "execution_count": 6,
     "metadata": {},
     "output_type": "execute_result"
    }
   ],
   "source": [
    "beer_lambert(21000, 200)"
   ]
  },
  {
   "cell_type": "markdown",
   "metadata": {},
   "source": [
    "**Else** the path length is some other value (in the example below 10 cm), then the following can be used,"
   ]
  },
  {
   "cell_type": "code",
   "execution_count": 7,
   "metadata": {},
   "outputs": [
    {
     "data": {
      "text/plain": [
       "0.0009523809523809524"
      ]
     },
     "execution_count": 7,
     "metadata": {},
     "output_type": "execute_result"
    }
   ],
   "source": [
    "beer_lambert(21000, 200, path_length=10)"
   ]
  },
  {
   "cell_type": "markdown",
   "metadata": {},
   "source": [
    "While it will make the code clearer, the `path_length` keyword is not necessary for the code to run. \n",
    "\n",
    "### Docstring\n",
    "\n",
    "This contains information about what the function does, including information about the arguments and what is returned. Above, this is,\n",
    "```\n",
    "\"\"\"\n",
    "Determine the kinetic energy of a particle.\n",
    "\n",
    "Args: \n",
    "    mass (float): Particle mass (kg)\n",
    "    velocity (float): Particle velocity (m/s)\n",
    "\n",
    "Returns:\n",
    "    (float): Particle kinetic energy (J)\n",
    "\"\"\"\n",
    "```\n",
    "This is an important (though not essential) component of a function. \n",
    "It describes the purpose of the function and guidance of how it should be used. \n",
    "Additionally, it acts as a **reminder** to the author of the function as to why it was written in the first place. \n",
    "The code that you write today will not stay present in your memory forever. \n",
    "\n",
    "In addition to a description of the function, the docstring also details the arguments of and what is returned by a function. \n",
    "There are a few common ways to format this in a docstring, we have opted for the [Google Style](https://sphinxcontrib-napoleon.readthedocs.io/en/latest/example_google.html), however other styles exist and it is important to be aware of them. \n",
    "This formatting is useful in the generation of documentation to accompany your code automatically. \n",
    "For example, the [NumPy docs](https://numpy.org/doc/stable/reference/generated/numpy.sqrt.html) which you may have seen are automatically generated from docstrings in the definition of each function. \n",
    "\n",
    "In addition to these docstrings, you can also add comments to your code. \n",
    "These are usually less formally structured and can be put anywhere within the code. \n",
    "The `#` symbol at the start of a line indicates a comment, and nothing following this character in a line will be interpreted by the Python kernel.\n",
    "For example, the cell below contains an informative comment."
   ]
  },
  {
   "cell_type": "code",
   "execution_count": 8,
   "metadata": {},
   "outputs": [
    {
     "data": {
      "text/plain": [
       "0.009523809523809525"
      ]
     },
     "execution_count": 8,
     "metadata": {},
     "output_type": "execute_result"
    }
   ],
   "source": [
    "absorbance = 100\n",
    "# The spectrometer used 5 mm curvettes\n",
    "beer_lambert(21000, absorbance, path_length=0.5)"
   ]
  },
  {
   "cell_type": "markdown",
   "metadata": {},
   "source": [
    "The importance of good comments and docstrings cannot be overstated, communication of the code you have written is just as important as the code itself.\n",
    "\n",
    "### Content\n",
    "\n",
    "Where the code for the particular function lives. Above this is just one line, but it can be many, \n",
    "```\n",
    "kinetic_energy = 0.5 * mass * velocity ** 2\n",
    "```\n",
    "This is the code that means the function will do something. \n",
    "However, it is important here to discuss the **scope** of a variable defined within a function.\n",
    "A variable that is created **inside** of the function (within the indented section), will not exist elsewhere in the code, including the argument variables.\n",
    "This is different from the scope for a variable in a loop, where the final value of the looped variable will exist outside of the loop. \n",
    "However, it is possible to make use of a variable defined outside of a function within it."
   ]
  },
  {
   "cell_type": "code",
   "execution_count": 9,
   "metadata": {},
   "outputs": [],
   "source": [
    "speed_of_light = 2.99792458e8\n",
    "planck = 6.62607004e-34\n",
    "\n",
    "def photon_energy(wavelength):\n",
    "    \"\"\"\n",
    "    Determines the energy of a single photon with a given wavelength.\n",
    "    \n",
    "    Args:\n",
    "        wavelength (float): Photon wavelength (m)\n",
    "    \n",
    "    Returns:\n",
    "        (float): Photon energy (J)\n",
    "    \"\"\"\n",
    "    return planck * speed_of_light / wavelength"
   ]
  },
  {
   "cell_type": "code",
   "execution_count": 10,
   "metadata": {},
   "outputs": [
    {
     "name": "stdout",
     "output_type": "stream",
     "text": [
      "3.310743040286264e-19\n"
     ]
    }
   ],
   "source": [
    "print(photon_energy(600e-9))"
   ]
  },
  {
   "cell_type": "markdown",
   "metadata": {},
   "source": [
    "### Return\n",
    "\n",
    "The information that is returned from the function, with the `return` keyword. \n",
    "```\n",
    "return kinetic_energy\n",
    "```\n",
    "This keyword tells the Python kernel that the function is complete and to **return** the object that follows the `return`. \n",
    "\n",
    "It is possible to return more than one object from a function, these will be returned as a `tuple` (which is similar to a list and can be indexed as such). \n",
    "For example, we can repeat the above function but return the photon energy in both joules and electronvolts. "
   ]
  },
  {
   "cell_type": "code",
   "execution_count": 11,
   "metadata": {},
   "outputs": [],
   "source": [
    "speed_of_light = 2.99792458e8\n",
    "planck = 6.62607004e-34\n",
    "\n",
    "def photon_energy(wavelength):\n",
    "    \"\"\"\n",
    "    Determines the energy of a single photon with a given wavelength in both\n",
    "    Joules and electron volts.\n",
    "    \n",
    "    Args:\n",
    "        wavelength (float): Photon wavelength (m)\n",
    "    \n",
    "    Returns:\n",
    "        (tuple of length 2, float): Photon energy in J and eV respectively\n",
    "    \"\"\"\n",
    "    energy = planck * speed_of_light / wavelength\n",
    "    return energy, energy * 6.242e+18"
   ]
  },
  {
   "cell_type": "code",
   "execution_count": 12,
   "metadata": {},
   "outputs": [
    {
     "name": "stdout",
     "output_type": "stream",
     "text": [
      "Energy = 3.310743040286264e-19 J or 2.066565805746686 eV\n"
     ]
    }
   ],
   "source": [
    "energy = photon_energy(600e-9)\n",
    "print(f'Energy = {energy[0]} J or {energy[1]} eV')"
   ]
  },
  {
   "cell_type": "markdown",
   "metadata": {},
   "source": [
    "## Exercise:\n",
    "\n",
    "- Write a function to calculate the distance between two atoms. \n",
    "  Then rewrite to exercise in the loops section to utilise this function. \n",
    "  Make sure to include a docstring describing the purpose of the function and outlining the arguments.\n",
    "- Write another function that implements the second-order rate equation, \n",
    "  $$ [A]_t = \\frac{[A]_0}{[A]_0kt + 1}, $$\n",
    "  where $[A]_t$ is the concentration at time $t$, $[A]_0$ is the initial concentration and $k$ is the rate constant (note this a rearrangement from the familiar way of writing this equation where $[A]_t$ is a reciprocal). \n",
    "  \n",
    "  Plot the data below, as $[A]_t$ (*y*-axis) against $t$ (*x*-axis), with a scatter plot (where you use `'o'`) and make sure to label your axes. \n",
    "  Using, either a loop or the NumPy array operations and the function that you have defined, test if the following values of $k$ and $[A]_0$ accurately model the reaction by plotting the model data as a line on top of your scatter plot. \n",
    "    - $k = 0.006$ mol<sup>-1</sup>dm<sup>3</sup>s<sup>-1</sup> and $[A]_0 = 0.6$ moldm<sup>-3</sup>\n",
    "    - $k = 0.0006$ mol<sup>-1</sup>dm<sup>3</sup>s<sup>-1</sup> and $[A]_0 = 0.4$ moldm<sup>-3</sup>\n",
    "    - $k = 0.6$ mol<sup>-1</sup>dm<sup>3</sup>s<sup>-1</sup> and $[A]_0 = 0.2$ moldm<sup>-3</sup>\n",
    "  \n",
    "| $t$/s | 0 | 600 | 1200 | 1800 | 2400 |\n",
    "|-------|---|-----|------|------|------|\n",
    "| $[A]_t$/moldm<sup>-3</sup> | 0.400 | 0.350 | 0.311 | 0.279 | 0.254 |"
   ]
  }
 ],
 "metadata": {
  "kernelspec": {
   "display_name": "Python 3",
   "language": "python",
   "name": "python3"
  },
  "language_info": {
   "codemirror_mode": {
    "name": "ipython",
    "version": 3
   },
   "file_extension": ".py",
   "mimetype": "text/x-python",
   "name": "python",
   "nbconvert_exporter": "python",
   "pygments_lexer": "ipython3",
   "version": "3.8.3"
  }
 },
 "nbformat": 4,
 "nbformat_minor": 4
}
