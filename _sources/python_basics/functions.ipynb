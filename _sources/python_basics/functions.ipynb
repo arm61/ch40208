{
 "cells": [
  {
   "cell_type": "markdown",
   "metadata": {},
   "source": [
    "# Functions\n",
    "\n",
    "By this point you have seen and used a number of **functions**, such as `print()`, `sum()`, and `math.sqrt()`, and the general concept of **functions** was briefly introduced [earlier](content:intro_to_functions).\n",
    "\n",
    "In this section we will cover how functions work in some more detail, and explain how you can write your own functions. Packaging your code into self-contained functions can help you to organise your programs as they become more complex, and also provides a way to write a section of code once and then use it multiple times in some later calculation.\n",
    "\n",
    "To review the key points from the earlier [introduction](content:intro_to_functions): a **function** is a piece of reusable code that takes zero or more inputs, performs a specific computation, and **returns** an output.\n",
    "\n",
    "To use a function (known as **calling** the function) we type the function name, followed by a pair of brackets. Anything inside the brackets specifies the inputs to the function. These inputs are called **arguments**, and are said to be **passed** to the function:\n",
    "\n",
    "## Defining a function\n",
    "\n",
    "To write your own **function** in Python you start with the function **definition**. This consists of a single line that starts with the keyword `def`, followed by the function name, and a pair of brackets (these contain any **arguments**, which we will discuss in detail below), before finishing with a colon `:`.\n",
    "\n",
    "Function names are **variables** and follow the same rules regarding allowed names as other **variables**. The convention is for **functions** to be written in **snakecase** where each word is written entirely in lowercase, with underscores between words, e.g. `sum()` or `kinetic_energy()` or `distance_between_two_atoms()`.\n",
    "\n",
    "After the **definition** line comes the code that runs when you **call** the function. This code must be indented, in the same way as we saw previously for **loops**. The end of this indented **block** of code marks the end of the function.\n",
    "\n",
    "The simplest function definition uses no **arguments** and takes the following form.="
   ]
  },
  {
   "cell_type": "code",
   "execution_count": 1,
   "metadata": {},
   "outputs": [],
   "source": [
    "def print_hello_world():\n",
    "    print(\"Hello World!\")"
   ]
  },
  {
   "cell_type": "markdown",
   "metadata": {},
   "source": [
    "Running this code does not produce an output, but instead creates a **variable** called `print_hello_world` that is assigned to the code specified in the function definition."
   ]
  },
  {
   "cell_type": "code",
   "execution_count": 2,
   "metadata": {},
   "outputs": [
    {
     "data": {
      "text/plain": [
       "<function __main__.print_hello_world()>"
      ]
     },
     "execution_count": 2,
     "metadata": {},
     "output_type": "execute_result"
    }
   ],
   "source": [
    "print_hello_world"
   ]
  },
  {
   "cell_type": "code",
   "execution_count": 3,
   "metadata": {},
   "outputs": [
    {
     "data": {
      "text/plain": [
       "function"
      ]
     },
     "execution_count": 3,
     "metadata": {},
     "output_type": "execute_result"
    }
   ],
   "source": [
    "type(print_hello_world)"
   ]
  },
  {
   "cell_type": "markdown",
   "metadata": {},
   "source": [
    "To **call** this function, we write the function name, followed by a pair of brackets."
   ]
  },
  {
   "cell_type": "code",
   "execution_count": 5,
   "metadata": {},
   "outputs": [
    {
     "name": "stdout",
     "output_type": "stream",
     "text": [
      "Hello World!\n"
     ]
    }
   ],
   "source": [
    "print_hello_world()"
   ]
  },
  {
   "cell_type": "markdown",
   "metadata": {},
   "source": [
    "Note the difference between the **variable** that refers to the code (no brackets) and **calling** the function stored in this **variable** (with brackets)"
   ]
  },
  {
   "cell_type": "code",
   "execution_count": 6,
   "metadata": {},
   "outputs": [
    {
     "data": {
      "text/plain": [
       "<function __main__.print_hello_world()>"
      ]
     },
     "execution_count": 6,
     "metadata": {},
     "output_type": "execute_result"
    }
   ],
   "source": [
    "print_hello_world"
   ]
  },
  {
   "cell_type": "code",
   "execution_count": 7,
   "metadata": {},
   "outputs": [
    {
     "name": "stdout",
     "output_type": "stream",
     "text": [
      "Hello World!\n"
     ]
    }
   ],
   "source": [
    "print_hello_world()"
   ]
  },
  {
   "cell_type": "markdown",
   "metadata": {},
   "source": [
    "## function arguments\n",
    "\n",
    "Functions can be given one or more **arguments**. These represent data that we **pass** into the function when we **call** it, that can then be used inside the function. One way this is useful is if you want to write a piece of code that will always perform the same computation on a range of different data."
   ]
  },
  {
   "cell_type": "code",
   "execution_count": 9,
   "metadata": {},
   "outputs": [],
   "source": [
    "def greet(name):\n",
    "    print(f'Hello {name}')"
   ]
  },
  {
   "cell_type": "markdown",
   "metadata": {},
   "source": [
    "In this example, we have defined a function `greet()` that takes one argument `name`. You can think of this argument as a variable that exists inside the function. To **call** this function now, and pass a value into the argument `name` we provide the value we want to pass inside the brackets in the function call:"
   ]
  },
  {
   "cell_type": "code",
   "execution_count": 10,
   "metadata": {},
   "outputs": [
    {
     "name": "stdout",
     "output_type": "stream",
     "text": [
      "Hello Ben\n"
     ]
    }
   ],
   "source": [
    "greet(\"Ben\")"
   ]
  },
  {
   "cell_type": "markdown",
   "metadata": {},
   "source": [
    "We can pass any value, or a variable that is assigned to a value, into this function. When we call the function, a new variable `name` is created, which is assigned to the value of the object passed to the function."
   ]
  },
  {
   "cell_type": "code",
   "execution_count": 11,
   "metadata": {},
   "outputs": [
    {
     "name": "stdout",
     "output_type": "stream",
     "text": [
      "Hello Drew\n"
     ]
    }
   ],
   "source": [
    "my_name = \"Drew\"\n",
    "greet(my_name)"
   ]
  },
  {
   "cell_type": "markdown",
   "metadata": {},
   "source": [
    "If the function requires an argument, and we forget to pass one, an error is raised:"
   ]
  },
  {
   "cell_type": "code",
   "execution_count": 12,
   "metadata": {},
   "outputs": [
    {
     "ename": "TypeError",
     "evalue": "greet() missing 1 required positional argument: 'name'",
     "output_type": "error",
     "traceback": [
      "\u001b[0;31m---------------------------------------------------------------------------\u001b[0m",
      "\u001b[0;31mTypeError\u001b[0m                                 Traceback (most recent call last)",
      "\u001b[0;32m<ipython-input-12-db845682bfe7>\u001b[0m in \u001b[0;36m<module>\u001b[0;34m\u001b[0m\n\u001b[0;32m----> 1\u001b[0;31m \u001b[0mgreet\u001b[0m\u001b[0;34m(\u001b[0m\u001b[0;34m)\u001b[0m\u001b[0;34m\u001b[0m\u001b[0;34m\u001b[0m\u001b[0m\n\u001b[0m",
      "\u001b[0;31mTypeError\u001b[0m: greet() missing 1 required positional argument: 'name'"
     ]
    }
   ],
   "source": [
    "greet()"
   ]
  },
  {
   "cell_type": "markdown",
   "metadata": {},
   "source": [
    "or if we pass the wrong number of arguments:"
   ]
  },
  {
   "cell_type": "code",
   "execution_count": 13,
   "metadata": {},
   "outputs": [
    {
     "ename": "TypeError",
     "evalue": "greet() takes 1 positional argument but 2 were given",
     "output_type": "error",
     "traceback": [
      "\u001b[0;31m---------------------------------------------------------------------------\u001b[0m",
      "\u001b[0;31mTypeError\u001b[0m                                 Traceback (most recent call last)",
      "\u001b[0;32m<ipython-input-13-9b362522ff63>\u001b[0m in \u001b[0;36m<module>\u001b[0;34m\u001b[0m\n\u001b[0;32m----> 1\u001b[0;31m \u001b[0mgreet\u001b[0m\u001b[0;34m(\u001b[0m\u001b[0;34m\"Ben\"\u001b[0m\u001b[0;34m,\u001b[0m \u001b[0;34m\"Drew\"\u001b[0m\u001b[0;34m)\u001b[0m\u001b[0;34m\u001b[0m\u001b[0;34m\u001b[0m\u001b[0m\n\u001b[0m",
      "\u001b[0;31mTypeError\u001b[0m: greet() takes 1 positional argument but 2 were given"
     ]
    }
   ],
   "source": [
    "greet(\"Ben\", \"Drew\")"
   ]
  },
  {
   "cell_type": "markdown",
   "metadata": {},
   "source": [
    "To define a function with more than one argument, we can include more argument variable names in the function definition."
   ]
  },
  {
   "cell_type": "code",
   "execution_count": 16,
   "metadata": {},
   "outputs": [],
   "source": [
    "def double_greet(name1, name2):\n",
    "    print(f\"Hello {name1} and {name2}.\")"
   ]
  },
  {
   "cell_type": "code",
   "execution_count": 17,
   "metadata": {},
   "outputs": [
    {
     "name": "stdout",
     "output_type": "stream",
     "text": [
      "Hello Ben and Drew.\n"
     ]
    }
   ],
   "source": [
    "double_greet(\"Ben\", \"Drew\")"
   ]
  },
  {
   "cell_type": "markdown",
   "metadata": {},
   "source": [
    "### optional arguments\n",
    "\n",
    "Functions can be defined with **optional** arguments by giving these arguments **default** values in the the function definition."
   ]
  },
  {
   "cell_type": "code",
   "execution_count": 18,
   "metadata": {},
   "outputs": [],
   "source": [
    "def ch40208_greet(name, day=\"Monday\"):\n",
    "    print(f\"Hello {name}, and welcome to the {day} LOIL.\")"
   ]
  },
  {
   "cell_type": "markdown",
   "metadata": {},
   "source": [
    "In this case we have one **required** argument, and one **optional** argument. If we call the function and pass one value, this has the argument variable `name` assigned to it, while the argument variable `day` is assigned to the default value of `\"Monday\"`."
   ]
  },
  {
   "cell_type": "code",
   "execution_count": 19,
   "metadata": {},
   "outputs": [
    {
     "name": "stdout",
     "output_type": "stream",
     "text": [
      "Hello Ben, and welcome to the Monday LOIL.\n"
     ]
    }
   ],
   "source": [
    "ch40208_greet(\"Ben\")"
   ]
  },
  {
   "cell_type": "markdown",
   "metadata": {},
   "source": [
    "What if it is not Monday though? Then we can call this function with two input parameters and specify the day:"
   ]
  },
  {
   "cell_type": "code",
   "execution_count": 20,
   "metadata": {},
   "outputs": [
    {
     "name": "stdout",
     "output_type": "stream",
     "text": [
      "Hello Ben, and welcome to the Friday LOIL.\n"
     ]
    }
   ],
   "source": [
    "ch40208_greet(\"Ben\", \"Friday\")"
   ]
  },
  {
   "cell_type": "markdown",
   "metadata": {},
   "source": [
    "Note that the sequence of values passed into the function maps onto the sequence of argument variables assigned to these values."
   ]
  },
  {
   "cell_type": "code",
   "execution_count": 22,
   "metadata": {},
   "outputs": [
    {
     "name": "stdout",
     "output_type": "stream",
     "text": [
      "Hello Friday, and welcome to the Ben LOIL.\n"
     ]
    }
   ],
   "source": [
    "ch40208_greet(\"Friday\", \"Ben\")"
   ]
  },
  {
   "cell_type": "markdown",
   "metadata": {},
   "source": [
    "**Optional arguments** are also called **keyword arguments**, because they can be set by specifying **keywords** in the function call statement:"
   ]
  },
  {
   "cell_type": "code",
   "execution_count": 21,
   "metadata": {},
   "outputs": [
    {
     "name": "stdout",
     "output_type": "stream",
     "text": [
      "Hello Drew, and welcome to the Friday LOIL.\n"
     ]
    }
   ],
   "source": [
    "ch40208_greet(\"Drew\", day=\"Friday\")"
   ]
  },
  {
   "cell_type": "markdown",
   "metadata": {},
   "source": [
    "Calling a function with a keyword argument that is not included in the function definition raises an error."
   ]
  },
  {
   "cell_type": "code",
   "execution_count": 23,
   "metadata": {},
   "outputs": [
    {
     "ename": "TypeError",
     "evalue": "ch40208_greet() got an unexpected keyword argument 'topic'",
     "output_type": "error",
     "traceback": [
      "\u001b[0;31m---------------------------------------------------------------------------\u001b[0m",
      "\u001b[0;31mTypeError\u001b[0m                                 Traceback (most recent call last)",
      "\u001b[0;32m<ipython-input-23-219ece4fff36>\u001b[0m in \u001b[0;36m<module>\u001b[0;34m\u001b[0m\n\u001b[0;32m----> 1\u001b[0;31m \u001b[0mch40208_greet\u001b[0m\u001b[0;34m(\u001b[0m\u001b[0;34m\"Lucy\"\u001b[0m\u001b[0;34m,\u001b[0m \u001b[0mtopic\u001b[0m\u001b[0;34m=\u001b[0m\u001b[0;34m\"functions\"\u001b[0m\u001b[0;34m)\u001b[0m\u001b[0;34m\u001b[0m\u001b[0;34m\u001b[0m\u001b[0m\n\u001b[0m",
      "\u001b[0;31mTypeError\u001b[0m: ch40208_greet() got an unexpected keyword argument 'topic'"
     ]
    }
   ],
   "source": [
    "ch40208_greet(\"Lucy\", topic=\"functions\")"
   ]
  },
  {
   "cell_type": "markdown",
   "metadata": {},
   "source": [
    "While **required arguments** must be passed in the same order as the argument list in the function definition, **optional arguments** passed **with keywords** can appear in any order (although they must appear **after** all the required arguments."
   ]
  },
  {
   "cell_type": "code",
   "execution_count": 28,
   "metadata": {},
   "outputs": [],
   "source": [
    "def ch40208_greet_and_info(name, day=\"Monday\", topic=\"Topics in Computational Chemistry\"):\n",
    "    print(f\"Hello {name}. Welcome to the {day} LOIL on {topic}.\")"
   ]
  },
  {
   "cell_type": "code",
   "execution_count": 29,
   "metadata": {},
   "outputs": [
    {
     "name": "stdout",
     "output_type": "stream",
     "text": [
      "Hello Lucy. Welcome to the Monday LOIL on Topics in Computational Chemistry.\n"
     ]
    }
   ],
   "source": [
    "ch40208_greet_and_info(\"Lucy\")"
   ]
  },
  {
   "cell_type": "code",
   "execution_count": 30,
   "metadata": {},
   "outputs": [
    {
     "name": "stdout",
     "output_type": "stream",
     "text": [
      "Hello Lucy. Welcome to the Friday LOIL on Topics in Computational Chemistry.\n"
     ]
    }
   ],
   "source": [
    "ch40208_greet_and_info(\"Lucy\", \"Friday\")"
   ]
  },
  {
   "cell_type": "code",
   "execution_count": 31,
   "metadata": {},
   "outputs": [
    {
     "name": "stdout",
     "output_type": "stream",
     "text": [
      "Hello Lucy. Welcome to the Friday LOIL on functions.\n"
     ]
    }
   ],
   "source": [
    "ch40208_greet_and_info(\"Lucy\", \"Friday\", \"functions\")"
   ]
  },
  {
   "cell_type": "code",
   "execution_count": 32,
   "metadata": {},
   "outputs": [
    {
     "name": "stdout",
     "output_type": "stream",
     "text": [
      "Hello Lucy. Welcome to the Monday LOIL on functions (again).\n"
     ]
    }
   ],
   "source": [
    "ch40208_greet_and_info(\"Lucy\", topic=\"functions (again)\")"
   ]
  },
  {
   "cell_type": "markdown",
   "metadata": {},
   "source": [
    "In this last example, we pass two parameters, but the second parameter is assigned the **keyword** `topic`. When the `ch40208_greet_and_info()` function is called, the first parameter is assigned to the required `name` argument, and the second parameter is assigned to the `topic` argument, corresponding to the keywork. We do not provide a value for the `day` optional argument, so the function runs with `day` assigned to the default value of `\"Monday\"`."
   ]
  },
  {
   "cell_type": "markdown",
   "metadata": {},
   "source": [
    "## Returning values from functions\n",
    "\n",
    "A function can **return** some value, that we can then use again in our code."
   ]
  },
  {
   "cell_type": "code",
   "execution_count": 33,
   "metadata": {},
   "outputs": [
    {
     "name": "stdout",
     "output_type": "stream",
     "text": [
      "15\n"
     ]
    }
   ],
   "source": [
    "numbers = [1, 2, 3, 4, 5]\n",
    "step_total = sum(numbers)\n",
    "print(step_total)"
   ]
  },
  {
   "cell_type": "markdown",
   "metadata": {},
   "source": [
    "In this example, the sum function adds the values in the list passed as the required argument, and **returns** this sum (15)."
   ]
  },
  {
   "cell_type": "markdown",
   "metadata": {},
   "source": [
    "We can **return** values in our own functions using the **return** keyword. For example, we could write our own replacement for `sum()`:"
   ]
  },
  {
   "cell_type": "code",
   "execution_count": 35,
   "metadata": {},
   "outputs": [],
   "source": [
    "def my_sum(list_of_numbers):\n",
    "    total = 0\n",
    "    for n in list_of_numbers:\n",
    "        total += n\n",
    "    return total"
   ]
  },
  {
   "cell_type": "code",
   "execution_count": 36,
   "metadata": {},
   "outputs": [
    {
     "name": "stdout",
     "output_type": "stream",
     "text": [
      "15\n"
     ]
    }
   ],
   "source": [
    "print(my_sum(numbers))"
   ]
  },
  {
   "cell_type": "markdown",
   "metadata": {},
   "source": [
    "Our definition for a function was that it **always** returns a value. And you might remember checking the **return value** of `print()`:"
   ]
  },
  {
   "cell_type": "code",
   "execution_count": 39,
   "metadata": {},
   "outputs": [
    {
     "name": "stdout",
     "output_type": "stream",
     "text": [
      "The print() function returns\n"
     ]
    },
    {
     "data": {
      "text/plain": [
       "NoneType"
      ]
     },
     "execution_count": 39,
     "metadata": {},
     "output_type": "execute_result"
    }
   ],
   "source": [
    "type(print(\"The print() function returns\"))"
   ]
  },
  {
   "cell_type": "markdown",
   "metadata": {},
   "source": [
    "If we do not specify a **return value** in our own functions, then these too will return `None`:"
   ]
  },
  {
   "cell_type": "code",
   "execution_count": 40,
   "metadata": {},
   "outputs": [
    {
     "name": "stdout",
     "output_type": "stream",
     "text": [
      "Hello Jacob, and welcome to the Monday LOIL.\n"
     ]
    },
    {
     "data": {
      "text/plain": [
       "NoneType"
      ]
     },
     "execution_count": 40,
     "metadata": {},
     "output_type": "execute_result"
    }
   ],
   "source": [
    "type(ch40208_greet(\"Jacob\"))"
   ]
  },
  {
   "cell_type": "markdown",
   "metadata": {},
   "source": [
    "## Docstrings\n",
    "\n",
    "Computer code is rarely used once, when it is written, and then left. More often code is used over weeks, or months, or years, possibly with pieces of code being used in multiple projects or by multiple users. Code that solves your specific problem might also be easier to **adapt** from pre-existing code (either your own or someone elses), than to write from scratch each time. \n",
    "\n",
    "While we might all think that it is obvious what our code does and how it works at the time we write it, there is no guarantee that someone else will think the same thing. Or that if you want to reuse or modify a piece of code in six months that it will make any sense.\n",
    "\n",
    "Having to figure out exactly what a piece of code does by reading the source code is, at best, time consuming; at worst it becomes impossible.\n",
    "\n",
    "For these reasons, it is strongly recommended that you **document** your code, to give enough information to a future user of the code (most likely future-you) to be able to pick it up and use it correctly."
   ]
  },
  {
   "cell_type": "markdown",
   "metadata": {},
   "source": [
    "Functions support a particular kind of inline documentation called a **docstring**. A **docstring** is a **string** that provides documentation about a function: usually a summary of what the function does, and information about any required or optional **arguments**, and any data **returned** by the function.\n",
    "\n",
    "A **docstring** is written as a **multi-line string**, which is defined in Python by a block of text that starts and ends with **triple quotes**: `\"\"\"` or `'''`.\n",
    "\n",
    "For example, here is a function `kinetic_energy()` that calculates the kinetic energy of a particle. The function takes two required arguments `mass` and `velocity` and returns the kinetic energy, calculated as $E_\\mathrm{KE} = \\frac{1}{2}mv^2$."
   ]
  },
  {
   "cell_type": "code",
   "execution_count": 41,
   "metadata": {},
   "outputs": [],
   "source": [
    "def kinetic_energy(mass, velocity):\n",
    "    \"\"\"\n",
    "    Determine the kinetic energy of a particle.\n",
    "    \n",
    "    Args: \n",
    "        mass (float): Particle mass (kg)\n",
    "        velocity (float): Particle velocity (m/s)\n",
    "    \n",
    "    Returns:\n",
    "        (float): Particle kinetic energy (J)\n",
    "    \"\"\"\n",
    "    kinetic_energy = 0.5 * mass * velocity ** 2\n",
    "    return kinetic_energy"
   ]
  },
  {
   "cell_type": "markdown",
   "metadata": {},
   "source": [
    "In this example the **docstring** is:\n",
    "\n",
    "```python\n",
    "    \"\"\"\n",
    "    Determine the kinetic energy of a particle.\n",
    "    \n",
    "    Args: \n",
    "        mass (float): Particle mass (kg)\n",
    "        velocity (float): Particle velocity (m/s)\n",
    "    \n",
    "    Returns:\n",
    "        (float): Particle kinetic energy (J)\n",
    "    \"\"\"\n",
    " ```\n",
    " \n",
    " The first line gives a brief summary of what the function does.\n",
    " \n",
    " Below this there is an `Args:` section, with each argument listed on a separate line underneath.\n",
    " \n",
    " At the end there is a `Returns:` section, which gives the **type** of the returned value, and an explanation of what this is."
   ]
  },
  {
   "cell_type": "markdown",
   "metadata": {},
   "source": [
    "A **docstring** can contain any text in any format. There are a few common conventions used in most Python code. In this example we have used [Google Style](https://sphinxcontrib-napoleon.readthedocs.io/en/latest/example_google.html), but other **dosctring** styles do exist."
   ]
  },
  {
   "cell_type": "markdown",
   "metadata": {},
   "source": [
    "Once a function has been defined, or imported, the **docstring** is stored as a special variable `__doc__`, which allows us to read this information."
   ]
  },
  {
   "cell_type": "code",
   "execution_count": 42,
   "metadata": {},
   "outputs": [
    {
     "name": "stdout",
     "output_type": "stream",
     "text": [
      "\n",
      "    Determine the kinetic energy of a particle.\n",
      "    \n",
      "    Args: \n",
      "        mass (float): Particle mass (kg)\n",
      "        velocity (float): Particle velocity (m/s)\n",
      "    \n",
      "    Returns:\n",
      "        (float): Particle kinetic energy (J)\n",
      "    \n"
     ]
    }
   ],
   "source": [
    "print(kinetic_energy.__doc__)"
   ]
  },
  {
   "cell_type": "markdown",
   "metadata": {},
   "source": [
    "We can do the same thing for functions that are part of the standard library or that we have **imported** from external modules:"
   ]
  },
  {
   "cell_type": "code",
   "execution_count": 43,
   "metadata": {},
   "outputs": [
    {
     "name": "stdout",
     "output_type": "stream",
     "text": [
      "Return the sum of a 'start' value (default: 0) plus an iterable of numbers\n",
      "\n",
      "When the iterable is empty, return the start value.\n",
      "This function is intended specifically for use with numeric values and may\n",
      "reject non-numeric types.\n"
     ]
    }
   ],
   "source": [
    "print(sum.__doc__)"
   ]
  },
  {
   "cell_type": "code",
   "execution_count": 45,
   "metadata": {},
   "outputs": [
    {
     "name": "stdout",
     "output_type": "stream",
     "text": [
      "Return the square root of x.\n"
     ]
    }
   ],
   "source": [
    "from math import sqrt\n",
    "print(sqrt.__doc__)"
   ]
  },
  {
   "cell_type": "markdown",
   "metadata": {},
   "source": [
    "If we are working inside a **Jupyter notebook** we can use a special `?` syntax to open the docstring for a function in a separate popout window."
   ]
  },
  {
   "cell_type": "code",
   "execution_count": 47,
   "metadata": {},
   "outputs": [],
   "source": [
    "kinetic_energy?"
   ]
  },
  {
   "attachments": {
    "image.png": {
     "image/png": "[encoded data removed]"
    }
   },
   "cell_type": "markdown",
   "metadata": {},
   "source": [
    "![images/jupyter_docstring_example](attachment:image.png)"
   ]
  },
  {
   "cell_type": "markdown",
   "metadata": {},
   "source": [
    "## Exercises:\n",
    "\n",
    "### 1\n",
    "Write a function to calculate the distance between two atoms. \n",
    "  Then rewrite to exercise in the loops section to utilise this function. \n",
    "  Make sure to include a docstring describing the purpose of the function and outlining the arguments.\n",
    "  \n",
    "### 2\n",
    "Write a function that implements the second-order rate equation,\n",
    "\n",
    "  $$ [A]_t = \\frac{[A]_0}{[A]_0kt + 1}, $$\n",
    "  \n",
    "  where $[A]_t$ is the concentration at time $t$, $[A]_0$ is the initial concentration and $k$ is the rate constant (note this a rearrangement from the familiar way of writing this equation where $[A]_t$ is a reciprocal).\n",
    "  \n",
    "  Plot the data below, as $[A]_t$ ($y$-axis) against $t$ ($x$-axis), with a scatter plot (where you use `'o'`) and make sure to label your axes.\n",
    "  \n",
    "  Using, either a loop or the NumPy array operations and the function that you have defined, test if the following values of $k$ and $[A]_0$ accurately model the reaction by plotting the model data as a line on top of your scatter plot.\n",
    "\n",
    "- $k = 0.006$ mol<sup>-1</sup> dm<sup>3</sup> s<sup>-1</sup> and $[A]_0 = 0.6$ mol dm<sup>-3</sup>\n",
    "- $k = 0.0006$ mol<sup>-1</sup> dm<sup>3</sup> s<sup>-1</sup> and $[A]_0 = 0.4$ mol dm<sup>-3</sup>\n",
    "- $k = 0.6$ mol<sup>-1</sup> dm<sup>3</sup> s<sup>-1</sup> and $[A]_0 = 0.2$ mol dm<sup>-3</sup>\n",
    "\n",
    "| $t$/s | 0 | 600 | 1200 | 1800 | 2400 |\n",
    "|-------|---|-----|------|------|------|\n",
    "| $[A]_t$ / mol dm<sup>-3</sup> | 0.400 | 0.350 | 0.311 | 0.279 | 0.254 |"
   ]
  }
 ],
 "metadata": {
  "kernelspec": {
   "display_name": "Python 3",
   "language": "python",
   "name": "python3"
  },
  "language_info": {
   "codemirror_mode": {
    "name": "ipython",
    "version": 3
   },
   "file_extension": ".py",
   "mimetype": "text/x-python",
   "name": "python",
   "nbconvert_exporter": "python",
   "pygments_lexer": "ipython3",
   "version": "3.7.7"
  }
 },
 "nbformat": 4,
 "nbformat_minor": 4
}
