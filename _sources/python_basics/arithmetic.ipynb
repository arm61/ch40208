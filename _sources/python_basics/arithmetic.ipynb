{
 "cells": [
  {
   "cell_type": "markdown",
   "metadata": {},
   "source": [
    "# Arithmetic\n",
    "\n",
    "Let's now look at how we can use the *numerical* variable types. \n",
    "Python and the Jupyter Notebook can perform simple mathematical operations *natively*. \n",
    "Most powerful mathematical operations are discussed [later](../working_with_data/numpy_arrays/). \n",
    "\n",
    "The operations that Python can perform natively include, \n",
    "\n",
    "| Operation | Mathematical notation | Pythonic notation |\n",
    "|---|---|---|\n",
    "| Addition | $ a + b $ | `a + b` |\n",
    "| Subtraction |  $ a - b $ | `a - b` |\n",
    "| Multiplication | $ a \\times b $ | `a * b` |\n",
    "| Division | $ a \\div b $ | `a / b` |\n",
    "| Exponent | $ a ^ b $ | `a ** b` |\n",
    "\n",
    "Beware that the multiplication in Python is explicit, while in mathematics you could write $1.5nRT$ to indicate $0.5 \\times n \\times R \\times T$, in Python all of the previous implicit multiplication must be included. \n",
    "So in Python we would have `1.5 * n * R * T`. \n",
    "\n",
    "With these basic tools alone, and the ability to assign variables, it is possible to use the Jupyter Notebook as a simple calculator. \n",
    "For example, we could assign some values to the variables `n`, `R`, and `T`, and calculate the internal energy of a monatomic ideal gas. "
   ]
  },
  {
   "cell_type": "code",
   "execution_count": 1,
   "metadata": {},
   "outputs": [
    {
     "data": {
      "text/plain": [
       "3741.3"
      ]
     },
     "execution_count": 1,
     "metadata": {},
     "output_type": "execute_result"
    }
   ],
   "source": [
    "n = 1\n",
    "R = 8.314\n",
    "T = 300\n",
    "\n",
    "1.5 * n * R * T"
   ]
  },
  {
   "cell_type": "markdown",
   "metadata": {},
   "source": [
    "## Order of operations\n",
    "\n",
    "A single line of code can include a series of different arithmetic operations. \n",
    "Therefore, it is necessary to follow a hierarchy, also known as the *order of operations*. \n",
    "Python follows the order of operations that should be familiar from mathematics, you may know this as [BODMAS](https://en.wikipedia.org/wiki/Order_of_operations):\n",
    "\n",
    "- **B**rackets\n",
    "- **O**rder\n",
    "- **D**ivision\n",
    "- **M**ultiplication\n",
    "- **A**ddition\n",
    "- **S**ubtraction\n",
    "\n",
    "> **Exercise**: Without using the computer or a calculator, and following the BODMAS order of operations, calculate the following:\n",
    "> 1. $24 \\div (10 + 2)$\n",
    "> 2. $5 + 16 \\div 2 \\times 3$\n",
    "> 3. $[32 \\div (6 + 2)] ^ 2$\n",
    "> \n",
    "> Now check that your answers match the result that Python produces using a Jupyter Notebook.\n",
    "\n",
    "## Mixed-type operations\n",
    "\n",
    "When the two operands, $4$ and $3$ in the code `4 + 3`, are of the same type, the result of some arithmetic operations will typically also be of this type. \n",
    "For example, below the two floats produce a float, "
   ]
  },
  {
   "cell_type": "code",
   "execution_count": 3,
   "metadata": {},
   "outputs": [
    {
     "data": {
      "text/plain": [
       "float"
      ]
     },
     "execution_count": 3,
     "metadata": {},
     "output_type": "execute_result"
    }
   ],
   "source": [
    "type(4.3 + 2.5)"
   ]
  },
  {
   "cell_type": "markdown",
   "metadata": {},
   "source": [
    "However, where the operation is on operands of different types, it is necessary to modify one of them before the operation can be performed. \n",
    "For example, below an integer is multiplied by a float, which results in an object of type `float`. "
   ]
  },
  {
   "cell_type": "code",
   "execution_count": 4,
   "metadata": {},
   "outputs": [
    {
     "data": {
      "text/plain": [
       "float"
      ]
     },
     "execution_count": 4,
     "metadata": {},
     "output_type": "execute_result"
    }
   ],
   "source": [
    "type(2 * 4.0)"
   ]
  },
  {
   "cell_type": "markdown",
   "metadata": {},
   "source": [
    "This is because Python is automatically converted the type of `2` before the operation. \n",
    "If you could see all of the steps of the multiplication, it would look like this,\n",
    "```\n",
    ">> 2 * 4.0\n",
    ">> 2.0 * 4.0\n",
    ">> 6.0\n",
    "```\n",
    "\n",
    "In Python 3 (the version of Python that we are working with), if one integer is divided by another, then both are converted to floats first. \n",
    "So in the code below, the variable `both_int` is a float with the value `0.5`."
   ]
  },
  {
   "cell_type": "code",
   "execution_count": 5,
   "metadata": {},
   "outputs": [
    {
     "data": {
      "text/plain": [
       "(0.5, float)"
      ]
     },
     "execution_count": 5,
     "metadata": {},
     "output_type": "execute_result"
    }
   ],
   "source": [
    "both_int = 2 / 4\n",
    "both_int, type(both_int)"
   ]
  },
  {
   "cell_type": "markdown",
   "metadata": {},
   "source": [
    "In the older Python 2, this would have returned an integer with a value of `0`, as the number is rounded down. \n",
    "However, with Python 3, the operator `//` (known as floor division, because it rounds down) would be required to achieve this result. "
   ]
  },
  {
   "cell_type": "code",
   "execution_count": 6,
   "metadata": {},
   "outputs": [
    {
     "data": {
      "text/plain": [
       "(0, int)"
      ]
     },
     "execution_count": 6,
     "metadata": {},
     "output_type": "execute_result"
    }
   ],
   "source": [
    "floor_division = 2 // 4\n",
    "floor_division, type(floor_division)"
   ]
  }
 ],
 "metadata": {
  "kernelspec": {
   "display_name": "Python 3",
   "language": "python",
   "name": "python3"
  },
  "language_info": {
   "codemirror_mode": {
    "name": "ipython",
    "version": 3
   },
   "file_extension": ".py",
   "mimetype": "text/x-python",
   "name": "python",
   "nbconvert_exporter": "python",
   "pygments_lexer": "ipython3",
   "version": "3.7.6"
  }
 },
 "nbformat": 4,
 "nbformat_minor": 2
}
