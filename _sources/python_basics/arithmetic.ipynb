{
 "cells": [
  {
   "cell_type": "markdown",
   "metadata": {},
   "source": [
    "# Arithmetic\n",
    "\n",
    "Let's look now at how we can use assigned numerical variables in mathematical operations. \n",
    "Previously, we saw simple maths, using the Notebook as a basic calculator. \n",
    "In this section, we will discuss more powerful mathematics, making you of variables. \n",
    "The operations that Python can perform natively include, \n",
    "\n",
    "| Operation | Mathematical notation | Pythonic notation |\n",
    "|---|---|---|\n",
    "| Addition | $a + b$ | `a + b` |\n",
    "| Subtraction |  $a - b$ | `a - b` |\n",
    "| Multiplication | $a \\times b$ | `a * b` |\n",
    "| Division | $a \\div b$ | `a / b` |\n",
    "| Exponent | $a^b$ | `a ** b` |\n",
    "\n",
    "Beware that the multiplication in Python is explicit, while in mathematics you could write $1.5nRT$ to indicate $1.5 \\times n \\times R \\times T$, in Python all of the previous implicit multiplication must be included. \n",
    "So in Python we would have `1.5 * n * R * T`. \n",
    "\n",
    "With these basic tools alone, and the ability to assign variables, it is possible to write a Jupyter cell that will calculate the internal energy of a monatomic gas. "
   ]
  },
  {
   "cell_type": "code",
   "execution_count": 1,
   "metadata": {},
   "outputs": [
    {
     "data": {
      "text/plain": [
       "3741.3"
      ]
     },
     "execution_count": 1,
     "metadata": {},
     "output_type": "execute_result"
    }
   ],
   "source": [
    "n = 1\n",
    "R = 8.314\n",
    "T = 300\n",
    "\n",
    "1.5 * n * R * T"
   ]
  },
  {
   "cell_type": "markdown",
   "metadata": {},
   "source": [
    "Test for yourself, the result of varying the values of `n`, and `T` in the above cell. \n",
    "\n",
    "## Order of operations\n",
    "\n",
    "A single line of code can include a series of different arithmetic operations. \n",
    "Therefore, it is necessary to follow a hierarchy, also known as the *order of operations*. \n",
    "Python follows the order of operations that should be familiar from mathematics, you may know this as [BODMAS](https://en.wikipedia.org/wiki/Order_of_operations):\n",
    "\n",
    "- **B**rackets\n",
    "- **O**rder\n",
    "- **D**ivision\n",
    "- **M**ultiplication\n",
    "- **A**ddition\n",
    "- **S**ubtraction\n",
    "\n",
    "## Mixed-type operations\n",
    "\n",
    "When the two operands, $4$ and $3$ in the code `4 + 3`, are of the same type, the result of some arithmetic operations wi\\ll typically also be of this type. \n",
    "For example, below the two floats produce a float."
   ]
  },
  {
   "cell_type": "code",
   "execution_count": 2,
   "metadata": {},
   "outputs": [
    {
     "data": {
      "text/plain": [
       "float"
      ]
     },
     "execution_count": 2,
     "metadata": {},
     "output_type": "execute_result"
    }
   ],
   "source": [
    "type(4.3 + 2.5)"
   ]
  },
  {
   "cell_type": "markdown",
   "metadata": {},
   "source": [
    "However, where the operation is on operands of different types, it is necessary to modify one of them before the operation can be performed. \n",
    "For example, below an integer is multiplied by a float, which results in an object of type `float`. "
   ]
  },
  {
   "cell_type": "code",
   "execution_count": 3,
   "metadata": {},
   "outputs": [
    {
     "data": {
      "text/plain": [
       "float"
      ]
     },
     "execution_count": 3,
     "metadata": {},
     "output_type": "execute_result"
    }
   ],
   "source": [
    "type(2 * 4.0)"
   ]
  },
  {
   "cell_type": "markdown",
   "metadata": {},
   "source": [
    "This is because Python is automatically converted the type of `2` before the operation. \n",
    "If you could see all of the steps of the multiplication, it would look like this,\n",
    "```\n",
    ">> 2 * 4.0\n",
    ">> 2.0 * 4.0\n",
    ">> 6.0\n",
    "```\n",
    "<br>\n",
    "\n",
    "## The `math` module\n",
    "\n",
    "Python can access more advanced mathematical functions using the `math` module. \n",
    "To access this, we must import this module to use the functions in our kernel. "
   ]
  },
  {
   "cell_type": "code",
   "execution_count": 4,
   "metadata": {},
   "outputs": [],
   "source": [
    "import math"
   ]
  },
  {
   "cell_type": "markdown",
   "metadata": {},
   "source": [
    "We can use [Bragg's law](https://en.wikipedia.org/wiki/Bragg%27s_law) to calculate the $d$ spacing in a crystal structure, based on the wavelength ($\\lamdba$) of the light, the angle of incidence ($\\theta$) and $n$ which is a positive integer. \n",
    "\n",
    "$$ 2d\\sin(\\theta) = n\\lambda $$\n",
    "\n",
    "Unlike the calculation of internal energy above, this function is not possible with the basic operations shown above. \n",
    "However, the `math` module offers access to many functions such as the `math.sin()` function (note that these function assume the angle to be given in radians). \n",
    "Therefore, in the cell below we can determine the $d$ spacing for a typical crystal. "
   ]
  },
  {
   "cell_type": "code",
   "execution_count": 5,
   "metadata": {},
   "outputs": [
    {
     "data": {
      "text/plain": [
       "5.640216163265237e-10"
      ]
     },
     "execution_count": 5,
     "metadata": {},
     "output_type": "execute_result"
    }
   ],
   "source": [
    "wavelength = 9.925e-10\n",
    "n = 1\n",
    "angle = 1.07553\n",
    "\n",
    "n * wavelength / (2 * math.sin(angle))"
   ]
  },
  {
   "cell_type": "markdown",
   "metadata": {},
   "source": [
    "The `math` module enables access to a variety of functions and objects that can be useful in scientific research.\n",
    "Including the trigonometric functions alluded to above and important mathematical constants, such as $\\pi$. "
   ]
  },
  {
   "cell_type": "code",
   "execution_count": 6,
   "metadata": {},
   "outputs": [
    {
     "data": {
      "text/plain": [
       "3.141592653589793"
      ]
     },
     "execution_count": 6,
     "metadata": {},
     "output_type": "execute_result"
    }
   ],
   "source": [
    "math.pi"
   ]
  },
  {
   "cell_type": "markdown",
   "metadata": {},
   "source": [
    "More information about the fucntions and objects that can be accessed from the `math` module can be found in the appropriate [documentation](https://docs.python.org/3/library/math.html).\n",
    "\n",
    "## Exercises:\n",
    "\n",
    "- Without using the computer or a calculator, and following the BODMAS order of operations, calculate the following:\n",
    "    1. $24 \\div (10 + 2)$\n",
    "    2. $5 + 16 \\div 2 \\times 3$\n",
    "    3. $[32 \\div (6 + 2)]^2$\n",
    "    \n",
    "  Now check that your answers match the result that Python produces using a Jupyter Notebook.\n",
    "\n",
    "- Write Jupyter cells for each of the following chemical equations.\n",
    "    1. $E=hc\\nu$, where $c$ is the [speed of light](https://en.wikipedia.org/wiki/Speed_of_light), $h$ is the [Planck constant](https://en.wikipedia.org/wiki/Planck_constant), and $\\nu$ is $1700$ cm<sup>-1</sup>.\n",
    "    2. $\\Delta G = -RT\\ln{K}$, where $R$ is the [ideal gas constant](https://en.wikipedia.org/wiki/Gas_constant), $T$ is initially $300$ K, and $K$ is $2.14\\times 10^{-4}$. \n",
    "    3. TODO ANOTHER EXAMPLE WITH $\\pi$. "
   ]
  }
 ],
 "metadata": {
  "kernelspec": {
   "display_name": "Python 3",
   "language": "python",
   "name": "python3"
  },
  "language_info": {
   "codemirror_mode": {
    "name": "ipython",
    "version": 3
   },
   "file_extension": ".py",
   "mimetype": "text/x-python",
   "name": "python",
   "nbconvert_exporter": "python",
   "pygments_lexer": "ipython3",
   "version": "3.8.3"
  }
 },
 "nbformat": 4,
 "nbformat_minor": 2
}
