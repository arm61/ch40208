{
 "cells": [
  {
   "cell_type": "markdown",
   "metadata": {},
   "source": [
    "# Exercises\n",
    "\n",
    "Let's first look at the halogens list. "
   ]
  },
  {
   "cell_type": "code",
   "execution_count": 1,
   "metadata": {},
   "outputs": [],
   "source": [
    "halogens = ['fluorine', 'chlorine', 'bromine', 'iodine', 'astatine']"
   ]
  },
  {
   "cell_type": "code",
   "execution_count": 2,
   "metadata": {},
   "outputs": [
    {
     "name": "stdout",
     "output_type": "stream",
     "text": [
      "['astatine', 'iodine', 'bromine', 'chlorine', 'fluorine']\n"
     ]
    }
   ],
   "source": [
    "print(halogens[::-1])"
   ]
  },
  {
   "cell_type": "markdown",
   "metadata": {},
   "source": [
    "Using a negative number reverses the list.\n",
    "\n",
    "Now for the distance calculations.\n",
    "\n",
    "## Molecule 1\n",
    "\n",
    "First we will define the atom positions. "
   ]
  },
  {
   "cell_type": "code",
   "execution_count": 3,
   "metadata": {},
   "outputs": [],
   "source": [
    "atom_1 = [0.1, 0.5, 3.2]\n",
    "atom_2 = [0.4, 0.5, 2.3]\n",
    "atom_3 = [-0.3, 0.3, 1.7]"
   ]
  },
  {
   "cell_type": "code",
   "execution_count": 4,
   "metadata": {},
   "outputs": [],
   "source": [
    "from math import sqrt"
   ]
  },
  {
   "cell_type": "code",
   "execution_count": 5,
   "metadata": {},
   "outputs": [
    {
     "name": "stdout",
     "output_type": "stream",
     "text": [
      "0.9486832980505141 1.565247584249853 0.9433981132056602\n"
     ]
    }
   ],
   "source": [
    "r_12 = sqrt((atom_1[0] - atom_2[0]) ** 2 + (atom_1[1] - atom_2[1]) ** 2 + (atom_1[2] - atom_2[2]) ** 2)\n",
    "r_13 = sqrt((atom_1[0] - atom_3[0]) ** 2 + (atom_1[1] - atom_3[1]) ** 2 + (atom_1[2] - atom_3[2]) ** 2)\n",
    "r_23 = sqrt((atom_2[0] - atom_3[0]) ** 2 + (atom_2[1] - atom_3[1]) ** 2 + (atom_2[2] - atom_3[2]) ** 2)\n",
    "print(r_12, r_13, r_23)"
   ]
  },
  {
   "cell_type": "markdown",
   "metadata": {},
   "source": [
    "The distance between atoms 1 and 3 is less than half the distance between atoms 1 and 2 plus the distance between atoms 2 and 3.\n",
    "This indicates that the atoms are in a bent shape. \n",
    "\n",
    "## Molecule 2\n",
    "\n",
    "Again, define the atom positions."
   ]
  },
  {
   "cell_type": "code",
   "execution_count": 6,
   "metadata": {},
   "outputs": [],
   "source": [
    "atom_1 = [-0.1, 0.5, 1.5]\n",
    "atom_2 = [0.2, 0.5, 2.6]\n",
    "atom_3 = [0.5, 0.5, 3.7]"
   ]
  },
  {
   "cell_type": "markdown",
   "metadata": {},
   "source": [
    "We can reuse the code above. "
   ]
  },
  {
   "cell_type": "code",
   "execution_count": 7,
   "metadata": {},
   "outputs": [
    {
     "name": "stdout",
     "output_type": "stream",
     "text": [
      "1.140175425099138 2.280350850198276 1.140175425099138\n"
     ]
    }
   ],
   "source": [
    "r_12 = sqrt((atom_1[0] - atom_2[0]) ** 2 + (atom_1[1] - atom_2[1]) ** 2 + (atom_1[2] - atom_2[2]) ** 2)\n",
    "r_13 = sqrt((atom_1[0] - atom_3[0]) ** 2 + (atom_1[1] - atom_3[1]) ** 2 + (atom_1[2] - atom_3[2]) ** 2)\n",
    "r_23 = sqrt((atom_2[0] - atom_3[0]) ** 2 + (atom_2[1] - atom_3[1]) ** 2 + (atom_2[2] - atom_3[2]) ** 2)\n",
    "print(r_12, r_13, r_23)"
   ]
  },
  {
   "cell_type": "markdown",
   "metadata": {},
   "source": [
    "Now that middle distance is the same as the sum of the other two. \n",
    "So the molecule is linearly shaped."
   ]
  }
 ],
 "metadata": {
  "kernelspec": {
   "display_name": "Python 3",
   "language": "python",
   "name": "python3"
  },
  "language_info": {
   "codemirror_mode": {
    "name": "ipython",
    "version": 3
   },
   "file_extension": ".py",
   "mimetype": "text/x-python",
   "name": "python",
   "nbconvert_exporter": "python",
   "pygments_lexer": "ipython3",
   "version": "3.8.3"
  }
 },
 "nbformat": 4,
 "nbformat_minor": 4
}
