{
 "cells": [
  {
   "cell_type": "markdown",
   "metadata": {},
   "source": [
    "# Exercises\n",
    "\n",
    "The first exercise is to write a function to calculate the distance between two atoms and use it in the nested loop featured previously. "
   ]
  },
  {
   "cell_type": "code",
   "execution_count": 1,
   "metadata": {},
   "outputs": [],
   "source": [
    "import numpy as np"
   ]
  },
  {
   "cell_type": "code",
   "execution_count": 3,
   "metadata": {},
   "outputs": [],
   "source": [
    "def distance(atom1, atom2):\n",
    "    \"\"\"\n",
    "    Find the distance between two atoms. \n",
    "    \n",
    "    Args:\n",
    "        atom1 (array_like): x, y, z coordinates of atom 1.\n",
    "        atom2 (array_like): x, y, z coordinates of atom 2.\n",
    "    \n",
    "    Returns:\n",
    "        (float): distance between atoms 1 and 2.\n",
    "    \"\"\"\n",
    "    return np.sqrt(np.sum((atom1 - atom2) ** 2))"
   ]
  },
  {
   "cell_type": "code",
   "execution_count": 4,
   "metadata": {},
   "outputs": [],
   "source": [
    "atom_1 = [0.1, 0.5, 3.2]\n",
    "atom_2 = [0.4, 0.5, 2.3]\n",
    "atom_3 = [-0.3, 0.3, 1.7]"
   ]
  },
  {
   "cell_type": "code",
   "execution_count": 5,
   "metadata": {},
   "outputs": [
    {
     "name": "stdout",
     "output_type": "stream",
     "text": [
      "[0.9486832980505141, 1.5652475842498532, 0.9433981132056602]\n"
     ]
    }
   ],
   "source": [
    "distances = []\n",
    "\n",
    "atoms = np.array([atom_1, atom_2, atom_3])\n",
    "for i, a_i in enumerate(atoms):\n",
    "    for j, a_j in enumerate(atoms[i+1:]):\n",
    "        distances.append(distance(a_i, a_j))\n",
    "        \n",
    "print(distances)"
   ]
  },
  {
   "cell_type": "markdown",
   "metadata": {},
   "source": [
    "The second exercise is to write a function that implements the second-order rate equation. "
   ]
  },
  {
   "cell_type": "code",
   "execution_count": 7,
   "metadata": {},
   "outputs": [],
   "source": [
    "def second_order(t, A0, k):\n",
    "    \"\"\"\n",
    "    The second order rate law. \n",
    "    \n",
    "    Args: \n",
    "        t (float): Time (s).\n",
    "        A0 (float): Initial concentration (M).\n",
    "        k (float): Rate constant (M-1s-1).\n",
    "    \n",
    "    Returns:\n",
    "        (float): Concentration at time t (M).\n",
    "    \"\"\"\n",
    "    return A0 / (A0 * k * t + 1)"
   ]
  },
  {
   "cell_type": "markdown",
   "metadata": {},
   "source": [
    "We are to then plot the data given in the table as a scatter plot and overlay the model second order rate equation over this using the different parameter sets."
   ]
  },
  {
   "cell_type": "code",
   "execution_count": 9,
   "metadata": {},
   "outputs": [],
   "source": [
    "import matplotlib.pyplot as plt"
   ]
  },
  {
   "cell_type": "code",
   "execution_count": 16,
   "metadata": {},
   "outputs": [
    {
     "data": {
      "image/png": "[encoded data removed]",
      "text/plain": [
       "<Figure size 432x288 with 1 Axes>"
      ]
     },
     "metadata": {
      "needs_background": "light"
     },
     "output_type": "display_data"
    }
   ],
   "source": [
    "t = np.array([0, 600, 1200, 1800, 2400])\n",
    "At = np.array([0.400, 0.350, 0.311, 0.279, 0.254])\n",
    "\n",
    "x = np.linspace(0, 2400, 1000)\n",
    "\n",
    "plt.plot(t, At, 'o')\n",
    "plt.plot(x, second_order(x, 0.6, 0.006), label='1')\n",
    "plt.plot(x, second_order(x, 0.4, 0.0006), label='2')\n",
    "plt.plot(x, second_order(x, 0.2, 0.6), label='3')\n",
    "plt.xlabel('Time/s')\n",
    "plt.ylabel('$[$A$]_t$')\n",
    "plt.legend()\n",
    "plt.show()"
   ]
  },
  {
   "cell_type": "markdown",
   "metadata": {},
   "source": [
    "We can see that the model labeled as 2 offers the best agreement to the data. "
   ]
  }
 ],
 "metadata": {
  "kernelspec": {
   "display_name": "Python 3",
   "language": "python",
   "name": "python3"
  },
  "language_info": {
   "codemirror_mode": {
    "name": "ipython",
    "version": 3
   },
   "file_extension": ".py",
   "mimetype": "text/x-python",
   "name": "python",
   "nbconvert_exporter": "python",
   "pygments_lexer": "ipython3",
   "version": "3.8.3"
  }
 },
 "nbformat": 4,
 "nbformat_minor": 4
}
