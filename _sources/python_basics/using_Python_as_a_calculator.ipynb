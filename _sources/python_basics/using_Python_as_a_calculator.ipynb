{
 "cells": [
  {
   "cell_type": "markdown",
   "metadata": {},
   "source": [
    "# Using Python as a calculator\n",
    "\n",
    "## Calculating 2+2\n",
    "\n",
    "One of the simplest uses of Python is as a simple calculator. \n",
    "\n",
    "This also introduces us to the idea of working with numbers which is a key part of using Python for scientific applications.\n",
    "\n",
    "Open a new Notebook and enter into a **code cell**"
   ]
  },
  {
   "cell_type": "code",
   "execution_count": 1,
   "metadata": {},
   "outputs": [
    {
     "data": {
      "text/plain": [
       "4"
      ]
     },
     "execution_count": 1,
     "metadata": {},
     "output_type": "execute_result"
    }
   ],
   "source": [
    "2+2"
   ]
  },
  {
   "cell_type": "markdown",
   "metadata": {},
   "source": [
    "Running this cell should give the output above.\n",
    "\n",
    "You can add space between the numbers to make things easier to read:"
   ]
  },
  {
   "cell_type": "code",
   "execution_count": 2,
   "metadata": {},
   "outputs": [
    {
     "data": {
      "text/plain": [
       "4"
      ]
     },
     "execution_count": 2,
     "metadata": {},
     "output_type": "execute_result"
    }
   ],
   "source": [
    "2 + 2"
   ]
  },
  {
   "cell_type": "markdown",
   "metadata": {},
   "source": [
    "Or wrap the expression in brackets:"
   ]
  },
  {
   "cell_type": "code",
   "execution_count": 3,
   "metadata": {},
   "outputs": [
    {
     "data": {
      "text/plain": [
       "4"
      ]
     },
     "execution_count": 3,
     "metadata": {},
     "output_type": "execute_result"
    }
   ],
   "source": [
    "(2 + 2)"
   ]
  },
  {
   "cell_type": "markdown",
   "metadata": {},
   "source": [
    "And still get the same result.\n",
    "\n",
    "## Simple arithmetic\n",
    "\n",
    "You are not limited to adding numbers. Try entering the following expressions into code cells and **executing** them (running the cells.):\n",
    "- subtraction:\n",
    "```\n",
    "3 - 1\n",
    "```\n",
    "- multiplication:\n",
    "```\n",
    "4 * 2\n",
    "```\n",
    "- powers (e.g. 4<sup>2</sup>)\n",
    "```\n",
    "4 ** 2\n",
    "```\n",
    "- division\n",
    "```\n",
    "6 / 2\n",
    "```\n",
    "\n",
    "## Integers and Floats\n",
    "\n",
    "Notice that the last example gives `3.0` and not `3` as the result. Python distinguishes between **integers** (also called **ints**) and **floating point numbers** (also called **floats**):\n",
    "- Integers: A number **without** a decimal point: e.g. 1, 2, 100, 10<sup>10</sup>.\n",
    "- Floats: A number **with** a decimal point. e.g. 3.14159, 12.0107, 8.3144 (you might recognise these).\n",
    "\n",
    "Arithmetic also works with **floats**:\n",
    "```\n",
    "2.0 + 2.0\n",
    "```\n",
    "\n",
    "```\n",
    "4.0 * 2.0\n",
    "```\n",
    "\n",
    "```\n",
    "4.0 ** 2.0\n",
    "```\n",
    "\n",
    "```\n",
    "6.0 / 2.0\n",
    "```\n",
    "\n",
    "And with mixtures of **integers** and **floats**\n",
    "```\n",
    "2 + 2.0\n",
    "```\n",
    "\n",
    "```\n",
    "4 * 2.0\n",
    "```\n",
    "\n",
    "```\n",
    "4.0 ** 2\n",
    "```\n",
    "\n",
    "```\n",
    "6 / 2.0\n",
    "```\n",
    "Notice how these last examples always output a **float**.\n",
    "\n",
    "**floats** can also be written without any numbers after the decimal point, e.g.\n",
    "```\n",
    "42.\n",
    "```\n",
    "is the same as `42.0`.\n",
    "\n",
    "You can do integer division (also called **floor division** ) using `//`:\n",
    "```\n",
    "6 // 2\n",
    "```\n",
    "Integer division rounds down:\n",
    "```\n",
    "7 // 2\n",
    "```\n",
    "\n",
    "You can calculate the **remainder** of integer division using the `%` symbol (called the **modulo** operator).\n",
    "```\n",
    "7 % 2\n",
    "```\n",
    "\n",
    "```\n",
    "8 % 2\n",
    "```\n",
    "\n",
    "Brackets can be used to specify the order of operations in more complicated expressions, according to the usual mathematical rules:\n",
    "```\n",
    "(2 + 3) * 4\n",
    "```\n",
    "\n",
    "```\n",
    "2 + (3 * 4)\n",
    "```\n",
    "\n",
    "We will return to mathematical expressions in Python in more detail later in the course."
   ]
  }
 ],
 "metadata": {
  "kernelspec": {
   "display_name": "Python 3",
   "language": "python",
   "name": "python3"
  },
  "language_info": {
   "codemirror_mode": {
    "name": "ipython",
    "version": 3
   },
   "file_extension": ".py",
   "mimetype": "text/x-python",
   "name": "python",
   "nbconvert_exporter": "python",
   "pygments_lexer": "ipython3",
   "version": "3.8.3"
  }
 },
 "nbformat": 4,
 "nbformat_minor": 4
}
