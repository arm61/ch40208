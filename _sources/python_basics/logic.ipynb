{
 "cells": [
  {
   "cell_type": "markdown",
   "metadata": {},
   "source": [
    "# Logical operations\n",
    "\n",
    "We have seen how to use the computer to do a wide range of different operations, but how to we make our code smart and capable of making decisions without. \n",
    "This is where logical operations come into play. \n",
    "A logical operation is a piece of code that will return a Boolean-type object. \n",
    "These object were mentioned [previously](https://pythoninchemistry.org/ch40208/python_basics/types.html), but lets quickly recap them. \n",
    "\n",
    "## Boolean types\n",
    "\n",
    "A Boolean is a logical variable type, named for mathematician [George Boole](https://en.wikipedia.org/wiki/George_Boole) who developed logical algebra methods. \n",
    "Data of type `bool` can be either `True` or `False` and is therefore binary in nature. \n",
    "Notice that the Jupyter Notebook will helpfully highlight the Boolean objects for us. "
   ]
  },
  {
   "cell_type": "code",
   "execution_count": 1,
   "metadata": {},
   "outputs": [
    {
     "name": "stdout",
     "output_type": "stream",
     "text": [
      "True\n"
     ]
    }
   ],
   "source": [
    "print(True)"
   ]
  },
  {
   "cell_type": "code",
   "execution_count": 2,
   "metadata": {},
   "outputs": [
    {
     "data": {
      "text/plain": [
       "bool"
      ]
     },
     "execution_count": 2,
     "metadata": {},
     "output_type": "execute_result"
    }
   ],
   "source": [
    "type(False)"
   ]
  },
  {
   "cell_type": "markdown",
   "metadata": {},
   "source": [
    "## Logical operators\n",
    "\n",
    "It was mentioned above that a logical operation is one that returns a Boolean object. \n",
    "A logical operation uses a logical operator, such as `==` which translates to *is equals to*, an operation that uses `==` will return `True` is the objects on either side are the same. "
   ]
  },
  {
   "cell_type": "code",
   "execution_count": 3,
   "metadata": {},
   "outputs": [
    {
     "data": {
      "text/plain": [
       "True"
      ]
     },
     "execution_count": 3,
     "metadata": {},
     "output_type": "execute_result"
    }
   ],
   "source": [
    "2 == 2"
   ]
  },
  {
   "cell_type": "code",
   "execution_count": 4,
   "metadata": {},
   "outputs": [
    {
     "data": {
      "text/plain": [
       "False"
      ]
     },
     "execution_count": 4,
     "metadata": {},
     "output_type": "execute_result"
    }
   ],
   "source": [
    "1 == 2"
   ]
  },
  {
   "cell_type": "code",
   "execution_count": 5,
   "metadata": {},
   "outputs": [
    {
     "data": {
      "text/plain": [
       "True"
      ]
     },
     "execution_count": 5,
     "metadata": {},
     "output_type": "execute_result"
    }
   ],
   "source": [
    "2 + 2 == 4"
   ]
  },
  {
   "cell_type": "markdown",
   "metadata": {},
   "source": [
    "Ofcourse the `==` operator is not the only available in Python. \n",
    "\n",
    "| Name | Mathematical Symbol | Operator |\n",
    "|------|---------------------|----------|\n",
    "| Equals | $=$ | `==` |\n",
    "| Less than | $<$ | `<` |\n",
    "| Less than or equal | $\\leq$ | `<=` |\n",
    "| Greater than | $>$ | `>` |\n",
    "| Greater than or equal | $\\geq$ | `>=` |\n",
    "| Not equal | $\\neq$ | `!=` |\n",
    "\n",
    "These operators all act as we would expect given the mathematical parallels. "
   ]
  },
  {
   "cell_type": "code",
   "execution_count": 6,
   "metadata": {},
   "outputs": [
    {
     "data": {
      "text/plain": [
       "False"
      ]
     },
     "execution_count": 6,
     "metadata": {},
     "output_type": "execute_result"
    }
   ],
   "source": [
    "1 > 2"
   ]
  },
  {
   "cell_type": "code",
   "execution_count": 7,
   "metadata": {},
   "outputs": [
    {
     "data": {
      "text/plain": [
       "True"
      ]
     },
     "execution_count": 7,
     "metadata": {},
     "output_type": "execute_result"
    }
   ],
   "source": [
    "3.14 != 3"
   ]
  },
  {
   "cell_type": "markdown",
   "metadata": {},
   "source": [
    "## Flow control\n",
    "\n",
    "While logical operations are interesting in their own right. \n",
    "Their utility in making our code smart becomes apparent when they are used in flow control. \n",
    "An `if` statement allows code to be writen that will **only** run if certain criteria are true. "
   ]
  },
  {
   "cell_type": "code",
   "execution_count": 8,
   "metadata": {},
   "outputs": [
    {
     "name": "stdout",
     "output_type": "stream",
     "text": [
      "The element is a halogen.\n"
     ]
    }
   ],
   "source": [
    "my_element = 'F'\n",
    "\n",
    "if my_element == 'F':\n",
    "    print('The element is a halogen.')"
   ]
  },
  {
   "cell_type": "markdown",
   "metadata": {},
   "source": [
    "Above, the indentation indicates all of the code that will occur only if the logical operation is `True`. \n",
    "An `if` statement can also be expanding in its utility by offering an alternative result if the logical operations is `False`, this is known as `else`. "
   ]
  },
  {
   "cell_type": "code",
   "execution_count": 9,
   "metadata": {},
   "outputs": [
    {
     "name": "stdout",
     "output_type": "stream",
     "text": [
      "The element is a halogen.\n"
     ]
    }
   ],
   "source": [
    "my_element = 'F'\n",
    "\n",
    "if my_element == 'F':\n",
    "    print('The element is a halogen.')\n",
    "else:\n",
    "    print('The element isn\\'t fluorine!')"
   ]
  },
  {
   "cell_type": "markdown",
   "metadata": {},
   "source": [
    "In addition to `else` there is also `elif` which offers alternative pathways with a logical operation. \n",
    "While `else` is essentially a catch all for if everything above it is `False`."
   ]
  },
  {
   "cell_type": "code",
   "execution_count": 10,
   "metadata": {},
   "outputs": [
    {
     "name": "stdout",
     "output_type": "stream",
     "text": [
      "The element is a halogen.\n"
     ]
    }
   ],
   "source": [
    "my_element = 'At'\n",
    "\n",
    "if my_element == 'F':\n",
    "    print('The element is a halogen.')\n",
    "elif my_element == 'Cl':\n",
    "    print('The element is a halogen.')\n",
    "elif my_element == 'Br':\n",
    "    print('The element is a halogen.')\n",
    "elif my_element == 'I':\n",
    "    print('The element is a halogen.')\n",
    "elif my_element == 'At':\n",
    "    print('The element is a halogen.')\n",
    "elif my_element == 'Ts':\n",
    "    print('The element is potentially a halogen.')\n",
    "else:\n",
    "    print('The element isn\\'t fluorine!')"
   ]
  },
  {
   "cell_type": "markdown",
   "metadata": {},
   "source": [
    "The above code could be made more efficient by using a special logical operator not yet mentioned. \n",
    "\n",
    "## AND and OR operators\n",
    "\n",
    "The `and` and `or` operators enable different operations to be combined. \n",
    "- The `and` operation will return `True` only if both operations are `True`.\n",
    "- The `or` operation will return `True` if either operations are `True`. \n",
    "Below we can see how the `or` operator can make our code a bit clearer. "
   ]
  },
  {
   "cell_type": "code",
   "execution_count": 11,
   "metadata": {},
   "outputs": [
    {
     "name": "stdout",
     "output_type": "stream",
     "text": [
      "The element is a halogen.\n"
     ]
    }
   ],
   "source": [
    "if (my_element == 'F') or (\n",
    "    my_element == 'Cl') or (\n",
    "    my_element == 'Br') or (\n",
    "    my_element == 'I') or (\n",
    "    my_element == 'At'):\n",
    "    print('The element is a halogen.')\n",
    "elif my_element == 'Ts':\n",
    "    print('The element is potentially a halogen.')\n",
    "else:\n",
    "    print('The element isn\\'t fluorine!')"
   ]
  },
  {
   "cell_type": "markdown",
   "metadata": {},
   "source": [
    "The brackets have been included to make the code a bit clearer. \n",
    "However, these can be improved even further by using a special logical operations that works with lists. "
   ]
  },
  {
   "cell_type": "code",
   "execution_count": 12,
   "metadata": {},
   "outputs": [
    {
     "name": "stdout",
     "output_type": "stream",
     "text": [
      "The element is a halogen.\n"
     ]
    }
   ],
   "source": [
    "halogens = ['F', 'Cl', 'Br', 'I', 'At']\n",
    "\n",
    "if my_element in halogens:\n",
    "    print('The element is a halogen.')\n",
    "elif my_element == 'Ts':\n",
    "    print('The element is potentially a halogen.')\n",
    "else:\n",
    "    print('The element isn\\'t fluorine!')"
   ]
  },
  {
   "cell_type": "markdown",
   "metadata": {},
   "source": [
    "The `in` keyword is a special logical operation that will return `True` if the item is in the list. \n",
    "\n",
    "## Effecting a loop\n",
    "\n",
    "We can use a logical operation to have an effect on a loop. \n",
    "For example, if we are in a loop and we want to stop the loop early is a particular result is obtained, we can `break` out of the loop.\n",
    "An example of this is shown below. "
   ]
  },
  {
   "cell_type": "code",
   "execution_count": 13,
   "metadata": {},
   "outputs": [
    {
     "name": "stdout",
     "output_type": "stream",
     "text": [
      "2.0\n",
      "3.0\n",
      "Not a prime number.\n"
     ]
    }
   ],
   "source": [
    "import numpy as np\n",
    "n = 87\n",
    "\n",
    "for i in np.linspace(2, n, n-1):\n",
    "    print(i)\n",
    "    if n % i == 0.0:\n",
    "        print('Not a prime number.')\n",
    "        break"
   ]
  },
  {
   "cell_type": "markdown",
   "metadata": {},
   "source": [
    "The above code will identify if a number `n` is not a prime number. \n",
    "If `n` is prime, nothing will be printed as the logical operation within the loop is never `True`.\n",
    "However, when the logical operation is true (recall the modulo operation from [earlier](https://pythoninchemistry.org/ch40208/python_basics/using_Python_as_a_calculator.html)), `'Not a prime number.'` will be printed and the `break` will occur. \n",
    "This `break` exits the nearest loop, saving on unnecessary calculation. \n",
    "\n",
    "## Exercise\n",
    "\n",
    "Revise your energy minimisation codes from earlier this week, such that they will automatically `break` out of the loop when the difference between the previous distance $r_{\\text{old}}$ and the new distance $r_{\\text{new}}$ is less than $0.02$ Å. \n",
    "It may be necessary to increase the number of steps that the loop performs."
   ]
  }
 ],
 "metadata": {
  "kernelspec": {
   "display_name": "Python 3",
   "language": "python",
   "name": "python3"
  },
  "language_info": {
   "codemirror_mode": {
    "name": "ipython",
    "version": 3
   },
   "file_extension": ".py",
   "mimetype": "text/x-python",
   "name": "python",
   "nbconvert_exporter": "python",
   "pygments_lexer": "ipython3",
   "version": "3.8.3"
  }
 },
 "nbformat": 4,
 "nbformat_minor": 4
}
