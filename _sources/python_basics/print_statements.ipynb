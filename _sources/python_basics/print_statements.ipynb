{
 "cells": [
  {
   "cell_type": "markdown",
   "metadata": {},
   "source": [
    "# Print Statements\n",
    "\n",
    "Until now, we have been using the built-in functionality of the Jupyter Notebook to \"print\" information from the code we are writing, such as the value of a variable or it's type. \n",
    "You may have noticed that the result of the final line in a given Jupyter cell will be printed. \n",
    "For example, if you run the code below in your Notebook so should get the same string shown,"
   ]
  },
  {
   "cell_type": "code",
   "execution_count": 1,
   "metadata": {},
   "outputs": [
    {
     "data": {
      "text/plain": [
       "'Jupyter returns the information in the last line'"
      ]
     },
     "execution_count": 1,
     "metadata": {},
     "output_type": "execute_result"
    }
   ],
   "source": [
    "to_print = \"Jupyter returns the information in the last line\"\n",
    "\n",
    "to_print"
   ]
  },
  {
   "cell_type": "markdown",
   "metadata": {},
   "source": [
    "However, if you would like to get information from other lines of the cell (or from within a [large program](../good_practice/modules/) or [function](../structured_programming/functions/), it is necessary to be able to *print* from the code. \n",
    "This is where the *print statement* comes in, which in Python looks like this, "
   ]
  },
  {
   "cell_type": "code",
   "execution_count": 2,
   "metadata": {},
   "outputs": [
    {
     "name": "stdout",
     "output_type": "stream",
     "text": [
      "Hello World!\n"
     ]
    }
   ],
   "source": [
    "print(\"Hello World!\")"
   ]
  },
  {
   "cell_type": "markdown",
   "metadata": {},
   "source": [
    "Which will output the string `Hello World!` when run. \n",
    "Some of you may be aware of the context of [printing Hello World!](https://en.wikipedia.org/wiki/%22Hello,_World!%22_program) in the history of learning programming, it is typically the first thing someone learns when they are learning a new programming language. \n",
    "\n",
    "Any of the [types](./variable_types/) can be printed with the print statement. \n",
    "Additionally, it is also possible to use the print statement to insert numerical values into a string. \n",
    "We can even prescribe how the number is written. \n",
    "For example, in the code below, the information between the curly brackets defines that a float (`f`) should be written with two (`2`) numbers following the decimal point (`.`). "
   ]
  },
  {
   "cell_type": "code",
   "execution_count": 3,
   "metadata": {},
   "outputs": [
    {
     "name": "stdout",
     "output_type": "stream",
     "text": [
      "R is approximately 8.314\n",
      "R to 2 decimal places is 8.31\n"
     ]
    }
   ],
   "source": [
    "ideal_gas_constant = 8.314\n",
    "\n",
    "print(\"R is approximately {}\".format(ideal_gas_constant))\n",
    "print(\"R to 2 decimal places is {:.2f}\".format(ideal_gas_constant))"
   ]
  },
  {
   "cell_type": "markdown",
   "metadata": {},
   "source": [
    "More information about the `format` function can be found [online](https://www.w3schools.com/python/ref_string_format.asp). "
   ]
  }
 ],
 "metadata": {
  "kernelspec": {
   "display_name": "Python 3",
   "language": "python",
   "name": "python3"
  },
  "language_info": {
   "codemirror_mode": {
    "name": "ipython",
    "version": 3
   },
   "file_extension": ".py",
   "mimetype": "text/x-python",
   "name": "python",
   "nbconvert_exporter": "python",
   "pygments_lexer": "ipython3",
   "version": "3.7.6"
  }
 },
 "nbformat": 4,
 "nbformat_minor": 2
}
