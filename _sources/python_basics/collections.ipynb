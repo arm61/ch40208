{
 "cells": [
  {
   "cell_type": "markdown",
   "metadata": {},
   "source": [
    "# Collections\n",
    "\n",
    "At the beginning of this section, we introduced the [variable types](./variable_types) that are present in Python. \n",
    "However, we only showed types that exist *individually*, e.g. one float or a single string, but Python can go beyond individual items and natively has objects that can hold *collections* of variables. \n",
    "In this section, we will look in detail at three different types of collections in Python, namely:\n",
    "- [Lists](#lists)\n",
    "- [Tuples](#tuples)\n",
    "- [Dictionaries](#dictionaries)\n",
    "\n",
    "Similarly to the individual object types, different operations can be performed on each of these collection types.\n",
    "\n",
    "## Lists\n",
    "\n",
    "Starting with `list`-type collection objects. \n",
    "Let's see how we can go about creating a Python list,"
   ]
  },
  {
   "cell_type": "code",
   "execution_count": 1,
   "metadata": {},
   "outputs": [],
   "source": [
    "noble_gases = ['helium', 'Neon', 'Argon']"
   ]
  },
  {
   "cell_type": "markdown",
   "metadata": {},
   "source": [
    "A `list` is created by putting multiple objects between square brackets separated by commas. \n",
    "We can confirm this has created a list using the `type()` function,"
   ]
  },
  {
   "cell_type": "code",
   "execution_count": 2,
   "metadata": {},
   "outputs": [
    {
     "data": {
      "text/plain": [
       "list"
      ]
     },
     "execution_count": 2,
     "metadata": {},
     "output_type": "execute_result"
    }
   ],
   "source": [
    "type(noble_gases)"
   ]
  },
  {
   "cell_type": "markdown",
   "metadata": {},
   "source": [
    "Additionally, the `print()` function can handle printing a list,"
   ]
  },
  {
   "cell_type": "code",
   "execution_count": 3,
   "metadata": {},
   "outputs": [
    {
     "name": "stdout",
     "output_type": "stream",
     "text": [
      "['helium', 'Neon', 'Argon']\n"
     ]
    }
   ],
   "source": [
    "print(noble_gases)"
   ]
  },
  {
   "cell_type": "markdown",
   "metadata": {},
   "source": [
    "If we want to access one of the items within a list, then we make use of the *index* notation. \n",
    "One of the strange things to note about this notation is that is it starts counting from $0$, so the first item of the list is found with,"
   ]
  },
  {
   "cell_type": "code",
   "execution_count": 4,
   "metadata": {},
   "outputs": [
    {
     "data": {
      "text/plain": [
       "'helium'"
      ]
     },
     "execution_count": 4,
     "metadata": {},
     "output_type": "execute_result"
    }
   ],
   "source": [
    "noble_gases[0]"
   ]
  },
  {
   "cell_type": "markdown",
   "metadata": {},
   "source": [
    "{numref}`list_indexing` shows graphically how the indexing of lists can be considered in Python. \n",
    "```{figure} ./images/list_indexing.png\n",
    "---\n",
    "scale: 100%\n",
    "name: list_indexing\n",
    "alt: A graphical description of a list, where the positive indexing is shown above the element name for the first three noble gases and the negative indexing is below.\n",
    "---\n",
    "A graphical description of the `noble_gases` list, showing positive and negative indexes.\n",
    "```\n",
    "\n",
    "An important feature of Python lists is that they are *mutable* which means that we can change values in the list. \n",
    "For example, you may have noticed at the `noble_gases` list lacked a capital letter in `'helium'`, let's fix that,"
   ]
  },
  {
   "cell_type": "code",
   "execution_count": 5,
   "metadata": {},
   "outputs": [
    {
     "name": "stdout",
     "output_type": "stream",
     "text": [
      "['Helium', 'Neon', 'Argon']\n"
     ]
    }
   ],
   "source": [
    "noble_gases[0] = 'Helium'\n",
    "print(noble_gases)"
   ]
  },
  {
   "cell_type": "markdown",
   "metadata": {},
   "source": [
    "Notice that the string has been updated.\n",
    "\n",
    "As can be seen from {numref}`list_indexing`, the final element of the list has an index of $n-1$, where $n$ is the length of the list. \n",
    "The length of a given list can be found with the `len()` function, so we can access the final item in the list with the following, "
   ]
  },
  {
   "cell_type": "code",
   "execution_count": 6,
   "metadata": {},
   "outputs": [
    {
     "data": {
      "text/plain": [
       "'Argon'"
      ]
     },
     "execution_count": 6,
     "metadata": {},
     "output_type": "execute_result"
    }
   ],
   "source": [
    "noble_gases[len(noble_gases)-1]"
   ]
  },
  {
   "cell_type": "markdown",
   "metadata": {},
   "source": [
    "However, there is a more efficient method, that can be seen below the list in {numref}`list_indexing`, where *negative indexing* is used. \n",
    "So $-1$ is the final element in the list, "
   ]
  },
  {
   "cell_type": "code",
   "execution_count": 7,
   "metadata": {},
   "outputs": [
    {
     "data": {
      "text/plain": [
       "'Argon'"
      ]
     },
     "execution_count": 7,
     "metadata": {},
     "output_type": "execute_result"
    }
   ],
   "source": [
    "noble_gases[-1]"
   ]
  },
  {
   "cell_type": "markdown",
   "metadata": {},
   "source": [
    "We can concatenate two lists, for example, say we have a few more gases to add to our `noble_gases` list, "
   ]
  },
  {
   "cell_type": "code",
   "execution_count": 8,
   "metadata": {},
   "outputs": [],
   "source": [
    "noble_gases = noble_gases + ['Krypton', 'Xenon']"
   ]
  },
  {
   "cell_type": "code",
   "execution_count": 9,
   "metadata": {},
   "outputs": [
    {
     "name": "stdout",
     "output_type": "stream",
     "text": [
      "['Helium', 'Neon', 'Argon', 'Krypton', 'Xenon']\n"
     ]
    }
   ],
   "source": [
    "print(noble_gases)"
   ]
  },
  {
   "cell_type": "markdown",
   "metadata": {},
   "source": [
    "If you just want to add a single variable to the list, we can `append` to the list as follows, "
   ]
  },
  {
   "cell_type": "code",
   "execution_count": 10,
   "metadata": {},
   "outputs": [],
   "source": [
    "noble_gases.append('Radon')"
   ]
  },
  {
   "cell_type": "code",
   "execution_count": 11,
   "metadata": {},
   "outputs": [
    {
     "name": "stdout",
     "output_type": "stream",
     "text": [
      "['Helium', 'Neon', 'Argon', 'Krypton', 'Xenon', 'Radon']\n"
     ]
    }
   ],
   "source": [
    "print(noble_gases)"
   ]
  },
  {
   "cell_type": "markdown",
   "metadata": {},
   "source": [
    "In addition to getting single items from the list, we are also able to access ranges of items, referred to as *slices*, using the `:` notation. "
   ]
  },
  {
   "cell_type": "code",
   "execution_count": 12,
   "metadata": {},
   "outputs": [
    {
     "name": "stdout",
     "output_type": "stream",
     "text": [
      "['Neon', 'Argon', 'Krypton']\n"
     ]
    }
   ],
   "source": [
    "print(noble_gases[1:4])"
   ]
  },
  {
   "cell_type": "markdown",
   "metadata": {},
   "source": [
    "The slicing notation can be a bit confusing, it is inclusive then exclusive.\n",
    "The slice of the list *includes* the item with the index that precedes the colon and *excludes* that which follows the colon. \n",
    "In the code about, we can see that the item with index $1$ is included, but that with index $4$ is excluded. \n",
    "{numref}`list_slice` shows slicing graphically.\n",
    "\n",
    "```{figure} ./images/list_slicing.png\n",
    "---\n",
    "scale: 100%\n",
    "name: list_slice\n",
    "alt: A graphical description of list slicing, where the positive indexing is shown above the element name for the first three noble gases and the negative indexing is below. The slice from 1 to 4 is idenfied.\n",
    "---\n",
    "A graphical description of slicing for lists.\n",
    "```\n",
    "\n",
    "We can also *skip* elements from a list slice, using a second colon. "
   ]
  },
  {
   "cell_type": "code",
   "execution_count": 13,
   "metadata": {},
   "outputs": [
    {
     "name": "stdout",
     "output_type": "stream",
     "text": [
      "['Neon', 'Krypton', 'Radon']\n"
     ]
    }
   ],
   "source": [
    "print(noble_gases[1::2])"
   ]
  },
  {
   "cell_type": "markdown",
   "metadata": {},
   "source": [
    "Notice that by omitting the second index (between the two colons), implicitly we have said to run to the end of the list (index `-1`). \n",
    "The same can be done for the first index, and the start of the list (index `0`) will be used. \n",
    "\n",
    "Finally, a list does *not* need to made up of items of a consistent type. \n",
    "The above examples have focused on a list containing all strings, however, the list can handle disparate types of information.\n",
    "For example, below we have a list that contains a string, integer, and a float,"
   ]
  },
  {
   "cell_type": "code",
   "execution_count": 14,
   "metadata": {},
   "outputs": [],
   "source": [
    "chlorine = ['Cl', 17, 35.5]"
   ]
  },
  {
   "cell_type": "code",
   "execution_count": 15,
   "metadata": {},
   "outputs": [
    {
     "name": "stdout",
     "output_type": "stream",
     "text": [
      "['Cl', 17, 35.5]\n"
     ]
    }
   ],
   "source": [
    "print(chlorine)"
   ]
  }
 ],
 "metadata": {
  "kernelspec": {
   "display_name": "Python 3",
   "language": "python",
   "name": "python3"
  },
  "language_info": {
   "codemirror_mode": {
    "name": "ipython",
    "version": 3
   },
   "file_extension": ".py",
   "mimetype": "text/x-python",
   "name": "python",
   "nbconvert_exporter": "python",
   "pygments_lexer": "ipython3",
   "version": "3.7.6"
  }
 },
 "nbformat": 4,
 "nbformat_minor": 2
}
