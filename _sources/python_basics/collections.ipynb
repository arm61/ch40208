{
 "cells": [
  {
   "cell_type": "markdown",
   "metadata": {},
   "source": [
    "# Collections\n",
    "\n",
    "At the beginning of this section, we introduced the [variable types](./variable_types) that are present in Python. \n",
    "However, we only showed types that exist *individually*, e.g. one float or a single string, but Python can go beyond individual items and natively has objects that can hold *collections* of variables. \n",
    "In this section, we will look in detail at three different types of collections in Python, namely:\n",
    "- [Lists](./lists/)\n",
    "- [Tuples](./tuples/)\n",
    "- [Dictionaries](./dictionaries)\n",
    "\n",
    "Similarly to the individual object types, different operations can be performed on each of these collection types."
   ]
  }
 ],
 "metadata": {
  "kernelspec": {
   "display_name": "Python 3",
   "language": "python",
   "name": "python3"
  },
  "language_info": {
   "codemirror_mode": {
    "name": "ipython",
    "version": 3
   },
   "file_extension": ".py",
   "mimetype": "text/x-python",
   "name": "python",
   "nbconvert_exporter": "python",
   "pygments_lexer": "ipython3",
   "version": "3.7.6"
  }
 },
 "nbformat": 4,
 "nbformat_minor": 2
}
