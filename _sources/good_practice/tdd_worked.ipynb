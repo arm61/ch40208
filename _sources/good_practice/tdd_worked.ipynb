{
 "cells": [
  {
   "cell_type": "markdown",
   "metadata": {},
   "source": [
    "# Worked Examples"
   ]
  },
  {
   "cell_type": "code",
   "execution_count": 2,
   "metadata": {},
   "outputs": [],
   "source": [
    "import numpy as np"
   ]
  },
  {
   "cell_type": "code",
   "execution_count": 5,
   "metadata": {},
   "outputs": [
    {
     "name": "stdout",
     "output_type": "stream",
     "text": [
      "Test 1 for Problem 1 Passed!\n",
      "Test 2 for Problem 1 Passed!\n",
      "Test 3 for Problem 1 Passed!\n"
     ]
    }
   ],
   "source": [
    "from scipy.constants import c, h\n",
    "\n",
    "def energy(wavenumber):\n",
    "    \"\"\"\n",
    "    Determine the energy of a given photon. \n",
    "    \n",
    "    Args:\n",
    "        wavenumber (float): Photon wavenumber (m^-1).\n",
    "    \n",
    "    Returns: \n",
    "        (float): Photon energy (J).\n",
    "    \"\"\"\n",
    "    return h * c * wavenumber\n",
    "\n",
    "np.testing.assert_almost_equal(energy(5.03411665e24), 1)\n",
    "print('Test 1 for Problem 1 Passed!')\n",
    "np.testing.assert_almost_equal(energy(755117497.6671815), 1.5e-16)\n",
    "print('Test 2 for Problem 1 Passed!')\n",
    "np.testing.assert_almost_equal(energy(5.663381232503861e+28), 11250.000186762287)\n",
    "print('Test 3 for Problem 1 Passed!')"
   ]
  },
  {
   "cell_type": "code",
   "execution_count": 7,
   "metadata": {},
   "outputs": [
    {
     "name": "stdout",
     "output_type": "stream",
     "text": [
      "Test 1 for Problem 2 Passed!\n",
      "Test 2 for Problem 2 Passed!\n",
      "Test 3 for Problem 2 Passed!\n"
     ]
    }
   ],
   "source": [
    "from scipy.constants import R\n",
    "\n",
    "def ideal_gas_law(number_of_moles, temperature, pressure):\n",
    "    \"\"\"\n",
    "    Get the volume of an ideal gas.\n",
    "    \n",
    "    Args:\n",
    "        number_of_moles (float): Number of moles (mol).\n",
    "        temperature (float): Temperature (K).\n",
    "        pressure (float): Pressure (Pa).\n",
    "    \n",
    "    Returns:\n",
    "        (float): Volume (m^3).\n",
    "    \"\"\"\n",
    "    if temperature < 0:\n",
    "        raise ValueError(\"The given temperature is unphysical (less than 0 K)\")\n",
    "    return number_of_moles * temperature * R / pressure\n",
    "\n",
    "np.testing.assert_almost_equal(ideal_gas_law(100, 100, 101325), 0.82057367)\n",
    "print('Test 1 for Problem 2 Passed!')\n",
    "np.testing.assert_almost_equal(ideal_gas_law(1, 500, 10132500), 4.10286691e-04)\n",
    "print('Test 2 for Problem 2 Passed!')\n",
    "np.testing.assert_raises(ValueError, ideal_gas_law, 1, -1, 10)\n",
    "print('Test 3 for Problem 2 Passed!')"
   ]
  },
  {
   "cell_type": "code",
   "execution_count": 9,
   "metadata": {},
   "outputs": [
    {
     "name": "stdout",
     "output_type": "stream",
     "text": [
      "Test 1 for Problem 3 Passed!\n",
      "Test 2 for Problem 3 Passed!\n",
      "Test 3 for Problem 3 Passed!\n",
      "Test 4 for Problem 3 Passed!\n"
     ]
    }
   ],
   "source": [
    "def allowed_angular_momentum_quantum_numbers(principal_quantum_number):\n",
    "    \"\"\"\n",
    "    Find the allowed angular momentum quantum numbers.\n",
    "    \n",
    "    Args:\n",
    "        principal_quantum_number (int): The principal quantum number, n. \n",
    "    \n",
    "    Returns:\n",
    "        (array_like): Allowed angular momentum quantum numbers, l.\n",
    "    \"\"\"\n",
    "    if principal_quantum_number <= 0:\n",
    "        raise ValueError(\"The principal quantum number must be greater than or equal to 1\")\n",
    "    if type(principal_quantum_number) != int:\n",
    "        raise TypeError(\"The principal quantum number must be an integer\")\n",
    "    return list(range(principal_quantum_number))\n",
    "\n",
    "np.testing.assert_equal(allowed_angular_momentum_quantum_numbers(3), [0, 1, 2])\n",
    "print('Test 1 for Problem 3 Passed!')\n",
    "np.testing.assert_equal(allowed_angular_momentum_quantum_numbers(6), [0, 1, 2, 3, 4, 5])\n",
    "print('Test 2 for Problem 3 Passed!')\n",
    "np.testing.assert_raises(ValueError, allowed_angular_momentum_quantum_numbers, 0)\n",
    "print('Test 3 for Problem 3 Passed!')\n",
    "np.testing.assert_raises(TypeError, allowed_angular_momentum_quantum_numbers, 1.5)\n",
    "print('Test 4 for Problem 3 Passed!')"
   ]
  },
  {
   "cell_type": "code",
   "execution_count": 10,
   "metadata": {},
   "outputs": [
    {
     "name": "stdout",
     "output_type": "stream",
     "text": [
      "Test 1 for Problem 4 Passed!\n",
      "Test 2 for Problem 4 Passed!\n"
     ]
    }
   ],
   "source": [
    "def arrhenius_equation(pre_exponential_factor, activation_energy, temperature):\n",
    "    \"\"\"\n",
    "    Find the rate constant(s) for a reaction.\n",
    "    \n",
    "    Args:\n",
    "        pre_exponential_factor (float): The pre-exponental factor, A.,\n",
    "        activation_energy (float): Activation energy (J).\n",
    "        temperature (float): Temperature (K), can be an array.\n",
    "    \n",
    "    Returns: \n",
    "        (float): Rate constant.\n",
    "    \"\"\"\n",
    "    return pre_exponential_factor * np.exp(-activation_energy / (R * temperature))\n",
    "    \n",
    "np.testing.assert_almost_equal(arrhenius_equation(23e10, 24.131, 300), 227785637794.47137)\n",
    "print('Test 1 for Problem 4 Passed!')\n",
    "np.testing.assert_almost_equal(arrhenius_equation(29, 10, np.array([6, 26, 226])), \n",
    "                               [23.7324167, 27.6890556, 28.8460781])\n",
    "print('Test 2 for Problem 4 Passed!')"
   ]
  },
  {
   "cell_type": "code",
   "execution_count": 11,
   "metadata": {},
   "outputs": [
    {
     "name": "stdout",
     "output_type": "stream",
     "text": [
      "Test 1 for Problem 5 Passed!\n",
      "Test 2 for Problem 5 Passed!\n"
     ]
    }
   ],
   "source": [
    "def morse(dissociation_energy, r, r_e):\n",
    "    \"\"\"\n",
    "    Find the potential energy of a Morse potential. \n",
    "    \n",
    "    Args:\n",
    "        dissociation_energy (float): D_e in the Morse potential function (J).\n",
    "        r (float): Distance between atoms to get energy for (Å), can be an array.\n",
    "        r_e (float): Equilibrium bond length (Å).\n",
    "    \n",
    "    Returns:\n",
    "        (float): Potential energy (J).\n",
    "    \"\"\"\n",
    "    return dissociation_energy * (1 - np.exp(-(r - r_e))) ** 2\n",
    "    \n",
    "np.testing.assert_almost_equal(morse(4.52, np.linspace(0.5, 1, 10), 0.74), \n",
    "                               [0.332564 , 0.1854401, 0.0855355, 0.0261688, \n",
    "                                0.0014542, 0.0062124, 0.0358916, 0.0864975, \n",
    "                                0.1545298, 0.2369265])\n",
    "print('Test 1 for Problem 5 Passed!')\n",
    "np.testing.assert_almost_equal(morse(0.59, 5, 1.5), 0.5549050979213414)\n",
    "print('Test 2 for Problem 5 Passed!')"
   ]
  }
 ],
 "metadata": {
  "kernelspec": {
   "display_name": "Python 3",
   "language": "python",
   "name": "python3"
  },
  "language_info": {
   "codemirror_mode": {
    "name": "ipython",
    "version": 3
   },
   "file_extension": ".py",
   "mimetype": "text/x-python",
   "name": "python",
   "nbconvert_exporter": "python",
   "pygments_lexer": "ipython3",
   "version": "3.8.3"
  }
 },
 "nbformat": 4,
 "nbformat_minor": 4
}
