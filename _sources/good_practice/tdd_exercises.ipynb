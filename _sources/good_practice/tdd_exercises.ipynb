{
 "cells": [
  {
   "cell_type": "markdown",
   "metadata": {},
   "source": [
    "# Exercise \n",
    "\n",
    "The idea for this exercise is to copy and paste the tests and the function definitions into your own Notebook. \n",
    "Once the function that your write satifies the test, only `'Test X for Problem Y Passed!'` will be printed when the cell is run. "
   ]
  },
  {
   "cell_type": "code",
   "execution_count": 1,
   "metadata": {},
   "outputs": [],
   "source": [
    "import numpy as np"
   ]
  },
  {
   "cell_type": "markdown",
   "metadata": {},
   "source": [
    "## Problem 1 \n",
    "\n",
    "The first function should produce the energy of a photon given a particular wavenumber. Note that the speed of light and Planck's constnat are imported from the `scipy.constants` library as `c` and `h` respectively. "
   ]
  },
  {
   "cell_type": "code",
   "execution_count": 2,
   "metadata": {},
   "outputs": [
    {
     "ename": "TypeError",
     "evalue": "unsupported operand type(s) for -: 'int' and 'NoneType'",
     "output_type": "error",
     "traceback": [
      "\u001b[0;31m---------------------------------------------------------------------------\u001b[0m",
      "\u001b[0;31mTypeError\u001b[0m                                 Traceback (most recent call last)",
      "\u001b[0;32m<ipython-input-2-b5af79b3711c>\u001b[0m in \u001b[0;36m<module>\u001b[0;34m\u001b[0m\n\u001b[1;32m      4\u001b[0m     \u001b[0;32mreturn\u001b[0m\u001b[0;34m\u001b[0m\u001b[0;34m\u001b[0m\u001b[0m\n\u001b[1;32m      5\u001b[0m \u001b[0;34m\u001b[0m\u001b[0m\n\u001b[0;32m----> 6\u001b[0;31m \u001b[0mnp\u001b[0m\u001b[0;34m.\u001b[0m\u001b[0mtesting\u001b[0m\u001b[0;34m.\u001b[0m\u001b[0massert_almost_equal\u001b[0m\u001b[0;34m(\u001b[0m\u001b[0menergy\u001b[0m\u001b[0;34m(\u001b[0m\u001b[0;36m5.03411665e24\u001b[0m\u001b[0;34m)\u001b[0m\u001b[0;34m,\u001b[0m \u001b[0;36m1\u001b[0m\u001b[0;34m)\u001b[0m\u001b[0;34m\u001b[0m\u001b[0;34m\u001b[0m\u001b[0m\n\u001b[0m\u001b[1;32m      7\u001b[0m \u001b[0mprint\u001b[0m\u001b[0;34m(\u001b[0m\u001b[0;34m'Test 1 for Problem 1 Passed!'\u001b[0m\u001b[0;34m)\u001b[0m\u001b[0;34m\u001b[0m\u001b[0;34m\u001b[0m\u001b[0m\n\u001b[1;32m      8\u001b[0m \u001b[0mnp\u001b[0m\u001b[0;34m.\u001b[0m\u001b[0mtesting\u001b[0m\u001b[0;34m.\u001b[0m\u001b[0massert_almost_equal\u001b[0m\u001b[0;34m(\u001b[0m\u001b[0menergy\u001b[0m\u001b[0;34m(\u001b[0m\u001b[0;36m755117497.6671815\u001b[0m\u001b[0;34m)\u001b[0m\u001b[0;34m,\u001b[0m \u001b[0;36m1.5e-16\u001b[0m\u001b[0;34m)\u001b[0m\u001b[0;34m\u001b[0m\u001b[0;34m\u001b[0m\u001b[0m\n",
      "    \u001b[0;31m[... skipping hidden 1 frame]\u001b[0m\n",
      "\u001b[0;31mTypeError\u001b[0m: unsupported operand type(s) for -: 'int' and 'NoneType'"
     ]
    }
   ],
   "source": [
    "from scipy.constants import c, h\n",
    "\n",
    "def energy(wavenumber):\n",
    "    return\n",
    "\n",
    "np.testing.assert_almost_equal(energy(5.03411665e24), 1)\n",
    "print('Test 1 for Problem 1 Passed!')\n",
    "np.testing.assert_almost_equal(energy(755117497.6671815), 1.5e-16)\n",
    "print('Test 2 for Problem 1 Passed!')\n",
    "np.testing.assert_almost_equal(energy(5.663381232503861e+28), 1.125e4)\n",
    "print('Test 3 for Problem 1 Passed!')"
   ]
  },
  {
   "cell_type": "markdown",
   "metadata": {},
   "source": [
    "## Problem 2\n",
    "\n",
    "The second function should be able to determine the volume of a system (assuming the gas is ideal) given the number of moles of gas $n$, the temperature $T$ and the pressure $p$. Again the ideal gas constant is imported for you as `R`.\n",
    "\n",
    "Remember,\n",
    "\n",
    "$$pV = nRT$$"
   ]
  },
  {
   "cell_type": "code",
   "execution_count": null,
   "metadata": {},
   "outputs": [],
   "source": [
    "from scipy.constants import R\n",
    "\n",
    "def ideal_gas_law(number_of_moles, temperature, pressure):\n",
    "    return\n",
    "\n",
    "np.testing.assert_almost_equal(ideal_gas_law(100, 100, 101325), 0.82057338)\n",
    "print('Test 1 for Problem 2 Passed!')\n",
    "np.testing.assert_almost_equal(ideal_gas_law(1, 500, 10132500), 4.10286691e-04)\n",
    "print('Test 2 for Problem 2 Passed!')\n",
    "np.testing.assert_raises(ValueError, ideal_gas_law, 1, -1, 10)\n",
    "print('Test 3 for Problem 2 Passed!')"
   ]
  },
  {
   "cell_type": "markdown",
   "metadata": {},
   "source": [
    "## Problem 3\n",
    "\n",
    "This function should return the allowed values of the angular momentum quantum number $l$, given a particular principal quantum number $n$.\n",
    "\n",
    "Remember,\n",
    "\n",
    "$$ 0 \\le l \\le n - 1 $$"
   ]
  },
  {
   "cell_type": "code",
   "execution_count": null,
   "metadata": {},
   "outputs": [],
   "source": [
    "def allowed_angular_momentum_quantum_numbers(principal_quantum_number):\n",
    "    return "
   ]
  },
  {
   "cell_type": "markdown",
   "metadata": {},
   "source": [
    "## Problem 4\n",
    "\n",
    "This function should return the rate constants $k$ for a reaction with a given activation energy $E_a$ and pre-exponential factor $A$, and at a range of temperatures $T$.\n",
    "\n",
    "Remember,\n",
    "\n",
    "$$ k = A \\exp{\\frac{-E_a}{RT}} $$"
   ]
  },
  {
   "cell_type": "code",
   "execution_count": null,
   "metadata": {},
   "outputs": [],
   "source": [
    "def arrhenius_equation(pre_exponential_factor, activation_energy, temperature):\n",
    "    return"
   ]
  },
  {
   "cell_type": "markdown",
   "metadata": {},
   "source": [
    "## Problem 5\n",
    "\n",
    "Write a function to calculate the energy of a Morse potential (this potential is a good model of a chemical bond) at a given set of distances. The functional form of a Morse potential is,\n",
    "\n",
    "$$E(r) = D_e\\{1-\\exp{[-(r-r_e)]}\\}^2 $$\n",
    "\n",
    "where $D_e$ is the dissociation energy, $r$ is the bond length, and $r_e$ is the equilibrium bond length."
   ]
  },
  {
   "cell_type": "code",
   "execution_count": null,
   "metadata": {},
   "outputs": [],
   "source": [
    "def morse(dissociation_energy, r, r_e):\n",
    "    return "
   ]
  }
 ],
 "metadata": {
  "kernelspec": {
   "display_name": "Python 3",
   "language": "python",
   "name": "python3"
  },
  "language_info": {
   "codemirror_mode": {
    "name": "ipython",
    "version": 3
   },
   "file_extension": ".py",
   "mimetype": "text/x-python",
   "name": "python",
   "nbconvert_exporter": "python",
   "pygments_lexer": "ipython3",
   "version": "3.8.3"
  }
 },
 "nbformat": 4,
 "nbformat_minor": 4
}
