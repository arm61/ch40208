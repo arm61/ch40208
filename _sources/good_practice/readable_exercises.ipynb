{
 "cells": [
  {
   "cell_type": "markdown",
   "metadata": {},
   "source": [
    "# Exercise\n",
    "\n",
    "Let's try and rewrite the code in a bit of a clearer way"
   ]
  },
  {
   "cell_type": "code",
   "execution_count": 1,
   "metadata": {},
   "outputs": [],
   "source": [
    "standard_temperature = 273.15\n",
    "def is_liquid_at_standard_temperature(melting_point, boiling_point):\n",
    "    \"\"\"\n",
    "    Check is an element is liquid at standard temperature. \n",
    "    \n",
    "    Args: \n",
    "        melting_point (float): Melting point of element.\n",
    "        boiling_point (float): Boiling point of element.\n",
    "        \n",
    "    Returns: \n",
    "        (bool): Is the element a liquid.\n",
    "    \"\"\"\n",
    "    return melting_point < standard_temperature and boiling_point >= standard_temperature"
   ]
  },
  {
   "cell_type": "code",
   "execution_count": 2,
   "metadata": {},
   "outputs": [
    {
     "name": "stdout",
     "output_type": "stream",
     "text": [
      "Hg is a liquid at standard temperature and pressure\n",
      "Br is a liquid at standard temperature and pressure\n"
     ]
    }
   ],
   "source": [
    "element_symbol = ['H', 'Ca', 'Fe', 'Hg', 'Br', 'Xe']\n",
    "melting_points = [13.99, 1115, 1811, 234.321, 265.8, 161.4]\n",
    "boiling_points = [20.271, 1757, 3134, 629.88, 332, 165.051]\n",
    "for i, element in enumerate(element_symbol):\n",
    "    if is_liquid_at_standard_temperature(melting_points[i], boiling_points[i]):\n",
    "        print(f'{element} is a liquid at standard temperature and pressure')"
   ]
  },
  {
   "cell_type": "markdown",
   "metadata": {},
   "source": [
    "Although more wordy now, it is a lot clearer what the code is doing."
   ]
  }
 ],
 "metadata": {
  "kernelspec": {
   "display_name": "Python 3",
   "language": "python",
   "name": "python3"
  },
  "language_info": {
   "codemirror_mode": {
    "name": "ipython",
    "version": 3
   },
   "file_extension": ".py",
   "mimetype": "text/x-python",
   "name": "python",
   "nbconvert_exporter": "python",
   "pygments_lexer": "ipython3",
   "version": "3.8.3"
  }
 },
 "nbformat": 4,
 "nbformat_minor": 4
}
