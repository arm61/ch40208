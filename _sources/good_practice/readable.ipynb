{
 "cells": [
  {
   "cell_type": "markdown",
   "metadata": {},
   "source": [
    "# Writing readable code\n",
    "\n",
    "One of the benefits of using Python over other programming languages is clear syntax.\n",
    "However, we can ensure the understandability of our code further by writing readable code. \n",
    "Readable code includes:\n",
    "- Using sensible variable names\n",
    "- Using relevant comments (a comment is where we start a line with `#` and that line is ignored by the Python kernel)\n",
    "- Including descriptive docstrings for functions\n",
    "- Writing modular code with short functions that perform a small number of tasks\n",
    "\n",
    "If we consider the following example, where we are trying to determine which elements in the list below are liquid at room temperature. \n",
    "The code below is not readable (at least not easily) but it is trying to print the elements that are liquid at room temperature. "
   ]
  },
  {
   "cell_type": "code",
   "execution_count": 2,
   "metadata": {},
   "outputs": [
    {
     "name": "stdout",
     "output_type": "stream",
     "text": [
      "Hg\n",
      "This element is a liquid at standard temperature and pressure.\n",
      "Br\n",
      "This element is a liquid at standard temperature and pressure.\n"
     ]
    }
   ],
   "source": [
    "# Some ugly, hard to read code\n",
    "\n",
    "s = ['H', 'Ca', 'Fe', 'Hg', 'Br', 'Xe']\n",
    "m = [13.99, 1115, 1811, 234.321, 265.8, 161.4]\n",
    "b = [20.271, 1757, 3134, 629.88, 332, 165.051]\n",
    "for d in range(0, len(s)):\n",
    "    if m[d] < 273.15 and b[d] >= 273.15:\n",
    "        print(s[d])\n",
    "        print(\"This element is a liquid at standard temperature and pressure.\")"
   ]
  },
  {
   "cell_type": "markdown",
   "metadata": {},
   "source": [
    "It is not immediately clear what this code is trying to achieve. \n",
    "For example, the three lists are simply given the names `s`, `m`, and `b`, which the author (currently) knows are short for chemical `s`ymbols, `m`elting point, and `b`oiling point.\n",
    "However, if someone else was to try and understand this it is not clear, or if the original author comes back to the code many months (or years) later.\n",
    "There are no comments or documentation to explain the purpose of this code, in particular, the `if` statement would benefit from some rationalisation.\n",
    "\n",
    "## Exercise \n",
    "\n",
    "Rewrite the code above to be more readable and clear, remembering to have descriptive variable names and include relevant and informative comments."
   ]
  }
 ],
 "metadata": {
  "kernelspec": {
   "display_name": "Python 3",
   "language": "python",
   "name": "python3"
  },
  "language_info": {
   "codemirror_mode": {
    "name": "ipython",
    "version": 3
   },
   "file_extension": ".py",
   "mimetype": "text/x-python",
   "name": "python",
   "nbconvert_exporter": "python",
   "pygments_lexer": "ipython3",
   "version": "3.8.3"
  }
 },
 "nbformat": 4,
 "nbformat_minor": 4
}
